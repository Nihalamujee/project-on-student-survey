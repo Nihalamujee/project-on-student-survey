{
 "cells": [
  {
   "cell_type": "markdown",
   "id": "b6f81024",
   "metadata": {},
   "source": [
    "# PROBLEM STATEMENT"
   ]
  },
  {
   "cell_type": "markdown",
   "id": "d0a05a94",
   "metadata": {},
   "source": [
    "A Google Forms Survey Was Conducted In May 2021 Among College Students Of Delhi. A Survey was conducted on wherein students of Indian Colleges answered some questions regarding their Employment expectations after graduating.\n",
    "\n",
    "This dataset contains the columns:Index,Employment Sector,Employment Background,Public Dealing,Degree,IdealNumberOfWorkdays,IdealYearlyIncome."
   ]
  },
  {
   "cell_type": "markdown",
   "id": "27a35d9e",
   "metadata": {},
   "source": [
    "AIM:"
   ]
  },
  {
   "cell_type": "markdown",
   "id": "487e70c6",
   "metadata": {},
   "source": [
    "The Data Was Aimed At Opinions Regarding Employment Among The Indian Urban Youth. Analyse the data and find interesting insights.\n",
    "Find Some Insights Regarding The Opinion Of Youngsters.  find patterns among the choices."
   ]
  },
  {
   "cell_type": "markdown",
   "id": "90dc0912",
   "metadata": {},
   "source": [
    "# Import libraries"
   ]
  },
  {
   "cell_type": "code",
   "execution_count": 27,
   "id": "962a9002",
   "metadata": {},
   "outputs": [],
   "source": [
    "import numpy as np \n",
    "import pandas as pd #for analysis \n",
    "import matplotlib.pyplot as plt #for visualization\n",
    "import seaborn as sns#visualization and eda\n",
    "%matplotlib inline \n",
    "sns.set_style('darkgrid')\n",
    "from sklearn.cluster import KMeans"
   ]
  },
  {
   "cell_type": "code",
   "execution_count": 20,
   "id": "b3cb661c",
   "metadata": {},
   "outputs": [],
   "source": [
    "#ignore warnings\n",
    "import warnings\n",
    "warnings.filterwarnings(\"ignore\")"
   ]
  },
  {
   "cell_type": "markdown",
   "id": "84cd7b28",
   "metadata": {},
   "source": [
    "# import dataset"
   ]
  },
  {
   "cell_type": "code",
   "execution_count": 21,
   "id": "6a5d648f",
   "metadata": {},
   "outputs": [],
   "source": [
    "job=pd.read_csv(\"C:\\\\Users\\\\kpmuj\\\\Downloads\\\\JobSurveyIndia.csv\")"
   ]
  },
  {
   "cell_type": "code",
   "execution_count": 4,
   "id": "a78040f7",
   "metadata": {},
   "outputs": [
    {
     "data": {
      "text/html": [
       "<div>\n",
       "<style scoped>\n",
       "    .dataframe tbody tr th:only-of-type {\n",
       "        vertical-align: middle;\n",
       "    }\n",
       "\n",
       "    .dataframe tbody tr th {\n",
       "        vertical-align: top;\n",
       "    }\n",
       "\n",
       "    .dataframe thead th {\n",
       "        text-align: right;\n",
       "    }\n",
       "</style>\n",
       "<table border=\"1\" class=\"dataframe\">\n",
       "  <thead>\n",
       "    <tr style=\"text-align: right;\">\n",
       "      <th></th>\n",
       "      <th>Unnamed: 0</th>\n",
       "      <th>Employment Sector</th>\n",
       "      <th>Employment Background</th>\n",
       "      <th>Public Dealing</th>\n",
       "      <th>Degree</th>\n",
       "      <th>IdealNumberOfWorkdays</th>\n",
       "      <th>IdealYearlyIncome</th>\n",
       "    </tr>\n",
       "  </thead>\n",
       "  <tbody>\n",
       "    <tr>\n",
       "      <th>0</th>\n",
       "      <td>0</td>\n",
       "      <td>Private Sector</td>\n",
       "      <td>Technical</td>\n",
       "      <td>No</td>\n",
       "      <td>Yes</td>\n",
       "      <td>4.0</td>\n",
       "      <td>More Than 1500K</td>\n",
       "    </tr>\n",
       "    <tr>\n",
       "      <th>1</th>\n",
       "      <td>1</td>\n",
       "      <td>Private Sector</td>\n",
       "      <td>Art</td>\n",
       "      <td>No</td>\n",
       "      <td>Yes</td>\n",
       "      <td>4.0</td>\n",
       "      <td>600K-900K</td>\n",
       "    </tr>\n",
       "    <tr>\n",
       "      <th>2</th>\n",
       "      <td>2</td>\n",
       "      <td>Government Sector</td>\n",
       "      <td>Technical</td>\n",
       "      <td>No</td>\n",
       "      <td>Yes</td>\n",
       "      <td>6.0</td>\n",
       "      <td>900K-1200K</td>\n",
       "    </tr>\n",
       "    <tr>\n",
       "      <th>3</th>\n",
       "      <td>3</td>\n",
       "      <td>Government Sector</td>\n",
       "      <td>Non-Technical</td>\n",
       "      <td>Yes</td>\n",
       "      <td>Yes</td>\n",
       "      <td>4.0</td>\n",
       "      <td>900K-1200K</td>\n",
       "    </tr>\n",
       "    <tr>\n",
       "      <th>4</th>\n",
       "      <td>4</td>\n",
       "      <td>Private Sector</td>\n",
       "      <td>Technical</td>\n",
       "      <td>No</td>\n",
       "      <td>Yes</td>\n",
       "      <td>5.0</td>\n",
       "      <td>1200K-1500K</td>\n",
       "    </tr>\n",
       "    <tr>\n",
       "      <th>...</th>\n",
       "      <td>...</td>\n",
       "      <td>...</td>\n",
       "      <td>...</td>\n",
       "      <td>...</td>\n",
       "      <td>...</td>\n",
       "      <td>...</td>\n",
       "      <td>...</td>\n",
       "    </tr>\n",
       "    <tr>\n",
       "      <th>395</th>\n",
       "      <td>395</td>\n",
       "      <td>Private Sector</td>\n",
       "      <td>Non-Technical</td>\n",
       "      <td>No</td>\n",
       "      <td>Yes</td>\n",
       "      <td>5.0</td>\n",
       "      <td>600K-900K</td>\n",
       "    </tr>\n",
       "    <tr>\n",
       "      <th>396</th>\n",
       "      <td>396</td>\n",
       "      <td>Government Sector</td>\n",
       "      <td>Non-Technical</td>\n",
       "      <td>Yes</td>\n",
       "      <td>No</td>\n",
       "      <td>4.0</td>\n",
       "      <td>900K-1200K</td>\n",
       "    </tr>\n",
       "    <tr>\n",
       "      <th>397</th>\n",
       "      <td>397</td>\n",
       "      <td>Government Sector</td>\n",
       "      <td>Non-Technical</td>\n",
       "      <td>Yes</td>\n",
       "      <td>No</td>\n",
       "      <td>4.0</td>\n",
       "      <td>900K-1200K</td>\n",
       "    </tr>\n",
       "    <tr>\n",
       "      <th>398</th>\n",
       "      <td>398</td>\n",
       "      <td>Government Sector</td>\n",
       "      <td>Non-Technical</td>\n",
       "      <td>No</td>\n",
       "      <td>No</td>\n",
       "      <td>5.0</td>\n",
       "      <td>More Than 1500K</td>\n",
       "    </tr>\n",
       "    <tr>\n",
       "      <th>399</th>\n",
       "      <td>399</td>\n",
       "      <td>Entrepreneurship</td>\n",
       "      <td>Non-Technical</td>\n",
       "      <td>Yes</td>\n",
       "      <td>No</td>\n",
       "      <td>6.0</td>\n",
       "      <td>900K-1200K</td>\n",
       "    </tr>\n",
       "  </tbody>\n",
       "</table>\n",
       "<p>400 rows × 7 columns</p>\n",
       "</div>"
      ],
      "text/plain": [
       "     Unnamed: 0  Employment Sector Employment Background Public Dealing  \\\n",
       "0             0     Private Sector             Technical             No   \n",
       "1             1     Private Sector                  Art             No    \n",
       "2             2  Government Sector             Technical             No   \n",
       "3             3  Government Sector         Non-Technical            Yes   \n",
       "4             4     Private Sector             Technical             No   \n",
       "..          ...                ...                   ...            ...   \n",
       "395         395     Private Sector         Non-Technical            No    \n",
       "396         396  Government Sector         Non-Technical            Yes   \n",
       "397         397  Government Sector         Non-Technical            Yes   \n",
       "398         398  Government Sector         Non-Technical             No   \n",
       "399         399   Entrepreneurship         Non-Technical            Yes   \n",
       "\n",
       "    Degree  IdealNumberOfWorkdays IdealYearlyIncome  \n",
       "0      Yes                    4.0   More Than 1500K  \n",
       "1     Yes                     4.0         600K-900K  \n",
       "2      Yes                    6.0        900K-1200K  \n",
       "3     Yes                     4.0        900K-1200K  \n",
       "4      Yes                    5.0       1200K-1500K  \n",
       "..     ...                    ...               ...  \n",
       "395   Yes                     5.0         600K-900K  \n",
       "396     No                    4.0        900K-1200K  \n",
       "397     No                    4.0        900K-1200K  \n",
       "398     No                    5.0   More Than 1500K  \n",
       "399     No                    6.0        900K-1200K  \n",
       "\n",
       "[400 rows x 7 columns]"
      ]
     },
     "execution_count": 4,
     "metadata": {},
     "output_type": "execute_result"
    }
   ],
   "source": [
    "job"
   ]
  },
  {
   "cell_type": "markdown",
   "id": "fd781c29",
   "metadata": {},
   "source": [
    "# Data cleaning and preparations"
   ]
  },
  {
   "cell_type": "code",
   "execution_count": 5,
   "id": "852224cf",
   "metadata": {},
   "outputs": [
    {
     "data": {
      "text/plain": [
       "(400, 7)"
      ]
     },
     "execution_count": 5,
     "metadata": {},
     "output_type": "execute_result"
    }
   ],
   "source": [
    "#checking the size of dataset\n",
    "job.shape"
   ]
  },
  {
   "cell_type": "markdown",
   "id": "90e0b2eb",
   "metadata": {},
   "source": [
    "There are 400 rows and 7 columns in the dataset"
   ]
  },
  {
   "cell_type": "code",
   "execution_count": 6,
   "id": "62056df5",
   "metadata": {},
   "outputs": [
    {
     "data": {
      "text/html": [
       "<div>\n",
       "<style scoped>\n",
       "    .dataframe tbody tr th:only-of-type {\n",
       "        vertical-align: middle;\n",
       "    }\n",
       "\n",
       "    .dataframe tbody tr th {\n",
       "        vertical-align: top;\n",
       "    }\n",
       "\n",
       "    .dataframe thead th {\n",
       "        text-align: right;\n",
       "    }\n",
       "</style>\n",
       "<table border=\"1\" class=\"dataframe\">\n",
       "  <thead>\n",
       "    <tr style=\"text-align: right;\">\n",
       "      <th></th>\n",
       "      <th>Unnamed: 0</th>\n",
       "      <th>Employment Sector</th>\n",
       "      <th>Employment Background</th>\n",
       "      <th>Public Dealing</th>\n",
       "      <th>Degree</th>\n",
       "      <th>IdealNumberOfWorkdays</th>\n",
       "      <th>IdealYearlyIncome</th>\n",
       "    </tr>\n",
       "  </thead>\n",
       "  <tbody>\n",
       "    <tr>\n",
       "      <th>0</th>\n",
       "      <td>0</td>\n",
       "      <td>Private Sector</td>\n",
       "      <td>Technical</td>\n",
       "      <td>No</td>\n",
       "      <td>Yes</td>\n",
       "      <td>4.0</td>\n",
       "      <td>More Than 1500K</td>\n",
       "    </tr>\n",
       "    <tr>\n",
       "      <th>1</th>\n",
       "      <td>1</td>\n",
       "      <td>Private Sector</td>\n",
       "      <td>Art</td>\n",
       "      <td>No</td>\n",
       "      <td>Yes</td>\n",
       "      <td>4.0</td>\n",
       "      <td>600K-900K</td>\n",
       "    </tr>\n",
       "    <tr>\n",
       "      <th>2</th>\n",
       "      <td>2</td>\n",
       "      <td>Government Sector</td>\n",
       "      <td>Technical</td>\n",
       "      <td>No</td>\n",
       "      <td>Yes</td>\n",
       "      <td>6.0</td>\n",
       "      <td>900K-1200K</td>\n",
       "    </tr>\n",
       "    <tr>\n",
       "      <th>3</th>\n",
       "      <td>3</td>\n",
       "      <td>Government Sector</td>\n",
       "      <td>Non-Technical</td>\n",
       "      <td>Yes</td>\n",
       "      <td>Yes</td>\n",
       "      <td>4.0</td>\n",
       "      <td>900K-1200K</td>\n",
       "    </tr>\n",
       "    <tr>\n",
       "      <th>4</th>\n",
       "      <td>4</td>\n",
       "      <td>Private Sector</td>\n",
       "      <td>Technical</td>\n",
       "      <td>No</td>\n",
       "      <td>Yes</td>\n",
       "      <td>5.0</td>\n",
       "      <td>1200K-1500K</td>\n",
       "    </tr>\n",
       "  </tbody>\n",
       "</table>\n",
       "</div>"
      ],
      "text/plain": [
       "   Unnamed: 0  Employment Sector Employment Background Public Dealing Degree  \\\n",
       "0           0     Private Sector             Technical             No    Yes   \n",
       "1           1     Private Sector                  Art             No    Yes    \n",
       "2           2  Government Sector             Technical             No    Yes   \n",
       "3           3  Government Sector         Non-Technical            Yes   Yes    \n",
       "4           4     Private Sector             Technical             No    Yes   \n",
       "\n",
       "   IdealNumberOfWorkdays IdealYearlyIncome  \n",
       "0                    4.0   More Than 1500K  \n",
       "1                    4.0         600K-900K  \n",
       "2                    6.0        900K-1200K  \n",
       "3                    4.0        900K-1200K  \n",
       "4                    5.0       1200K-1500K  "
      ]
     },
     "execution_count": 6,
     "metadata": {},
     "output_type": "execute_result"
    }
   ],
   "source": [
    "#printing first five rows\n",
    "job.head()"
   ]
  },
  {
   "cell_type": "code",
   "execution_count": 7,
   "id": "566039ed",
   "metadata": {},
   "outputs": [
    {
     "data": {
      "text/html": [
       "<div>\n",
       "<style scoped>\n",
       "    .dataframe tbody tr th:only-of-type {\n",
       "        vertical-align: middle;\n",
       "    }\n",
       "\n",
       "    .dataframe tbody tr th {\n",
       "        vertical-align: top;\n",
       "    }\n",
       "\n",
       "    .dataframe thead th {\n",
       "        text-align: right;\n",
       "    }\n",
       "</style>\n",
       "<table border=\"1\" class=\"dataframe\">\n",
       "  <thead>\n",
       "    <tr style=\"text-align: right;\">\n",
       "      <th></th>\n",
       "      <th>Unnamed: 0</th>\n",
       "      <th>Employment Sector</th>\n",
       "      <th>Employment Background</th>\n",
       "      <th>Public Dealing</th>\n",
       "      <th>Degree</th>\n",
       "      <th>IdealNumberOfWorkdays</th>\n",
       "      <th>IdealYearlyIncome</th>\n",
       "    </tr>\n",
       "  </thead>\n",
       "  <tbody>\n",
       "    <tr>\n",
       "      <th>395</th>\n",
       "      <td>395</td>\n",
       "      <td>Private Sector</td>\n",
       "      <td>Non-Technical</td>\n",
       "      <td>No</td>\n",
       "      <td>Yes</td>\n",
       "      <td>5.0</td>\n",
       "      <td>600K-900K</td>\n",
       "    </tr>\n",
       "    <tr>\n",
       "      <th>396</th>\n",
       "      <td>396</td>\n",
       "      <td>Government Sector</td>\n",
       "      <td>Non-Technical</td>\n",
       "      <td>Yes</td>\n",
       "      <td>No</td>\n",
       "      <td>4.0</td>\n",
       "      <td>900K-1200K</td>\n",
       "    </tr>\n",
       "    <tr>\n",
       "      <th>397</th>\n",
       "      <td>397</td>\n",
       "      <td>Government Sector</td>\n",
       "      <td>Non-Technical</td>\n",
       "      <td>Yes</td>\n",
       "      <td>No</td>\n",
       "      <td>4.0</td>\n",
       "      <td>900K-1200K</td>\n",
       "    </tr>\n",
       "    <tr>\n",
       "      <th>398</th>\n",
       "      <td>398</td>\n",
       "      <td>Government Sector</td>\n",
       "      <td>Non-Technical</td>\n",
       "      <td>No</td>\n",
       "      <td>No</td>\n",
       "      <td>5.0</td>\n",
       "      <td>More Than 1500K</td>\n",
       "    </tr>\n",
       "    <tr>\n",
       "      <th>399</th>\n",
       "      <td>399</td>\n",
       "      <td>Entrepreneurship</td>\n",
       "      <td>Non-Technical</td>\n",
       "      <td>Yes</td>\n",
       "      <td>No</td>\n",
       "      <td>6.0</td>\n",
       "      <td>900K-1200K</td>\n",
       "    </tr>\n",
       "  </tbody>\n",
       "</table>\n",
       "</div>"
      ],
      "text/plain": [
       "     Unnamed: 0  Employment Sector Employment Background Public Dealing  \\\n",
       "395         395     Private Sector         Non-Technical            No    \n",
       "396         396  Government Sector         Non-Technical            Yes   \n",
       "397         397  Government Sector         Non-Technical            Yes   \n",
       "398         398  Government Sector         Non-Technical             No   \n",
       "399         399   Entrepreneurship         Non-Technical            Yes   \n",
       "\n",
       "    Degree  IdealNumberOfWorkdays IdealYearlyIncome  \n",
       "395   Yes                     5.0         600K-900K  \n",
       "396     No                    4.0        900K-1200K  \n",
       "397     No                    4.0        900K-1200K  \n",
       "398     No                    5.0   More Than 1500K  \n",
       "399     No                    6.0        900K-1200K  "
      ]
     },
     "execution_count": 7,
     "metadata": {},
     "output_type": "execute_result"
    }
   ],
   "source": [
    "#printing last five rows\n",
    "job.tail()"
   ]
  },
  {
   "cell_type": "code",
   "execution_count": 8,
   "id": "0192a104",
   "metadata": {},
   "outputs": [
    {
     "data": {
      "text/html": [
       "<div>\n",
       "<style scoped>\n",
       "    .dataframe tbody tr th:only-of-type {\n",
       "        vertical-align: middle;\n",
       "    }\n",
       "\n",
       "    .dataframe tbody tr th {\n",
       "        vertical-align: top;\n",
       "    }\n",
       "\n",
       "    .dataframe thead th {\n",
       "        text-align: right;\n",
       "    }\n",
       "</style>\n",
       "<table border=\"1\" class=\"dataframe\">\n",
       "  <thead>\n",
       "    <tr style=\"text-align: right;\">\n",
       "      <th></th>\n",
       "      <th>Unnamed: 0</th>\n",
       "      <th>IdealNumberOfWorkdays</th>\n",
       "    </tr>\n",
       "  </thead>\n",
       "  <tbody>\n",
       "    <tr>\n",
       "      <th>count</th>\n",
       "      <td>400.000000</td>\n",
       "      <td>400.000000</td>\n",
       "    </tr>\n",
       "    <tr>\n",
       "      <th>mean</th>\n",
       "      <td>199.500000</td>\n",
       "      <td>4.902500</td>\n",
       "    </tr>\n",
       "    <tr>\n",
       "      <th>std</th>\n",
       "      <td>115.614301</td>\n",
       "      <td>0.805989</td>\n",
       "    </tr>\n",
       "    <tr>\n",
       "      <th>min</th>\n",
       "      <td>0.000000</td>\n",
       "      <td>4.000000</td>\n",
       "    </tr>\n",
       "    <tr>\n",
       "      <th>25%</th>\n",
       "      <td>99.750000</td>\n",
       "      <td>4.000000</td>\n",
       "    </tr>\n",
       "    <tr>\n",
       "      <th>50%</th>\n",
       "      <td>199.500000</td>\n",
       "      <td>5.000000</td>\n",
       "    </tr>\n",
       "    <tr>\n",
       "      <th>75%</th>\n",
       "      <td>299.250000</td>\n",
       "      <td>5.000000</td>\n",
       "    </tr>\n",
       "    <tr>\n",
       "      <th>max</th>\n",
       "      <td>399.000000</td>\n",
       "      <td>7.000000</td>\n",
       "    </tr>\n",
       "  </tbody>\n",
       "</table>\n",
       "</div>"
      ],
      "text/plain": [
       "       Unnamed: 0  IdealNumberOfWorkdays\n",
       "count  400.000000             400.000000\n",
       "mean   199.500000               4.902500\n",
       "std    115.614301               0.805989\n",
       "min      0.000000               4.000000\n",
       "25%     99.750000               4.000000\n",
       "50%    199.500000               5.000000\n",
       "75%    299.250000               5.000000\n",
       "max    399.000000               7.000000"
      ]
     },
     "execution_count": 8,
     "metadata": {},
     "output_type": "execute_result"
    }
   ],
   "source": [
    "#VIEW THE STATISTICAL SUMMARY OF NUMERICAL VARIABLES\n",
    "job.describe()"
   ]
  },
  {
   "cell_type": "code",
   "execution_count": 9,
   "id": "e37a8bbd",
   "metadata": {},
   "outputs": [
    {
     "data": {
      "text/plain": [
       "Unnamed: 0                 int64\n",
       "Employment Sector         object\n",
       "Employment Background     object\n",
       "Public Dealing            object\n",
       "Degree                    object\n",
       "IdealNumberOfWorkdays    float64\n",
       "IdealYearlyIncome         object\n",
       "dtype: object"
      ]
     },
     "execution_count": 9,
     "metadata": {},
     "output_type": "execute_result"
    }
   ],
   "source": [
    "#checking the datatypes of columns in the hr dataset\n",
    "job.dtypes"
   ]
  },
  {
   "cell_type": "markdown",
   "id": "99bded6e",
   "metadata": {},
   "source": [
    "There are one integer type and five object type and one floating type"
   ]
  },
  {
   "cell_type": "code",
   "execution_count": 10,
   "id": "512c15a4",
   "metadata": {},
   "outputs": [
    {
     "data": {
      "text/plain": [
       "<bound method NDFrame.keys of      Unnamed: 0  Employment Sector Employment Background Public Dealing  \\\n",
       "0             0     Private Sector             Technical             No   \n",
       "1             1     Private Sector                  Art             No    \n",
       "2             2  Government Sector             Technical             No   \n",
       "3             3  Government Sector         Non-Technical            Yes   \n",
       "4             4     Private Sector             Technical             No   \n",
       "..          ...                ...                   ...            ...   \n",
       "395         395     Private Sector         Non-Technical            No    \n",
       "396         396  Government Sector         Non-Technical            Yes   \n",
       "397         397  Government Sector         Non-Technical            Yes   \n",
       "398         398  Government Sector         Non-Technical             No   \n",
       "399         399   Entrepreneurship         Non-Technical            Yes   \n",
       "\n",
       "    Degree  IdealNumberOfWorkdays IdealYearlyIncome  \n",
       "0      Yes                    4.0   More Than 1500K  \n",
       "1     Yes                     4.0         600K-900K  \n",
       "2      Yes                    6.0        900K-1200K  \n",
       "3     Yes                     4.0        900K-1200K  \n",
       "4      Yes                    5.0       1200K-1500K  \n",
       "..     ...                    ...               ...  \n",
       "395   Yes                     5.0         600K-900K  \n",
       "396     No                    4.0        900K-1200K  \n",
       "397     No                    4.0        900K-1200K  \n",
       "398     No                    5.0   More Than 1500K  \n",
       "399     No                    6.0        900K-1200K  \n",
       "\n",
       "[400 rows x 7 columns]>"
      ]
     },
     "execution_count": 10,
     "metadata": {},
     "output_type": "execute_result"
    }
   ],
   "source": [
    "#List of all keys\n",
    "job.keys"
   ]
  },
  {
   "cell_type": "code",
   "execution_count": 11,
   "id": "10ea16cd",
   "metadata": {},
   "outputs": [
    {
     "name": "stdout",
     "output_type": "stream",
     "text": [
      "<class 'pandas.core.frame.DataFrame'>\n",
      "RangeIndex: 400 entries, 0 to 399\n",
      "Data columns (total 7 columns):\n",
      " #   Column                 Non-Null Count  Dtype  \n",
      "---  ------                 --------------  -----  \n",
      " 0   Unnamed: 0             400 non-null    int64  \n",
      " 1   Employment Sector      400 non-null    object \n",
      " 2   Employment Background  400 non-null    object \n",
      " 3   Public Dealing         400 non-null    object \n",
      " 4   Degree                 400 non-null    object \n",
      " 5   IdealNumberOfWorkdays  400 non-null    float64\n",
      " 6   IdealYearlyIncome      400 non-null    object \n",
      "dtypes: float64(1), int64(1), object(5)\n",
      "memory usage: 22.0+ KB\n"
     ]
    }
   ],
   "source": [
    "#VIEW SUMMARY OF DATASET\n",
    "#checking the info of dataset\n",
    "job.info()"
   ]
  },
  {
   "cell_type": "code",
   "execution_count": 12,
   "id": "c067214d",
   "metadata": {},
   "outputs": [
    {
     "data": {
      "text/plain": [
       "Unnamed: 0               400\n",
       "Employment Sector          3\n",
       "Employment Background      4\n",
       "Public Dealing             3\n",
       "Degree                     3\n",
       "IdealNumberOfWorkdays      4\n",
       "IdealYearlyIncome          4\n",
       "dtype: int64"
      ]
     },
     "execution_count": 12,
     "metadata": {},
     "output_type": "execute_result"
    }
   ],
   "source": [
    "#checking number of unique elements in the dataset\n",
    "job.nunique()"
   ]
  },
  {
   "cell_type": "code",
   "execution_count": 13,
   "id": "9abcfaa5",
   "metadata": {},
   "outputs": [
    {
     "data": {
      "text/html": [
       "<div>\n",
       "<style scoped>\n",
       "    .dataframe tbody tr th:only-of-type {\n",
       "        vertical-align: middle;\n",
       "    }\n",
       "\n",
       "    .dataframe tbody tr th {\n",
       "        vertical-align: top;\n",
       "    }\n",
       "\n",
       "    .dataframe thead th {\n",
       "        text-align: right;\n",
       "    }\n",
       "</style>\n",
       "<table border=\"1\" class=\"dataframe\">\n",
       "  <thead>\n",
       "    <tr style=\"text-align: right;\">\n",
       "      <th></th>\n",
       "      <th>Unnamed: 0</th>\n",
       "      <th>Employment Sector</th>\n",
       "      <th>Employment Background</th>\n",
       "      <th>Public Dealing</th>\n",
       "      <th>Degree</th>\n",
       "      <th>IdealNumberOfWorkdays</th>\n",
       "      <th>IdealYearlyIncome</th>\n",
       "    </tr>\n",
       "  </thead>\n",
       "  <tbody>\n",
       "    <tr>\n",
       "      <th>7</th>\n",
       "      <td>7</td>\n",
       "      <td>Private Sector</td>\n",
       "      <td>Non-Technical</td>\n",
       "      <td>Yes</td>\n",
       "      <td>Yes</td>\n",
       "      <td>4.0</td>\n",
       "      <td>900K-1200K</td>\n",
       "    </tr>\n",
       "  </tbody>\n",
       "</table>\n",
       "</div>"
      ],
      "text/plain": [
       "   Unnamed: 0 Employment Sector Employment Background Public Dealing Degree  \\\n",
       "7           7    Private Sector         Non-Technical            Yes    Yes   \n",
       "\n",
       "   IdealNumberOfWorkdays IdealYearlyIncome  \n",
       "7                    4.0        900K-1200K  "
      ]
     },
     "execution_count": 13,
     "metadata": {},
     "output_type": "execute_result"
    }
   ],
   "source": [
    "#random row from the dataset\n",
    "job.sample()"
   ]
  },
  {
   "cell_type": "code",
   "execution_count": 14,
   "id": "59caa24d",
   "metadata": {},
   "outputs": [
    {
     "data": {
      "text/html": [
       "<div>\n",
       "<style scoped>\n",
       "    .dataframe tbody tr th:only-of-type {\n",
       "        vertical-align: middle;\n",
       "    }\n",
       "\n",
       "    .dataframe tbody tr th {\n",
       "        vertical-align: top;\n",
       "    }\n",
       "\n",
       "    .dataframe thead th {\n",
       "        text-align: right;\n",
       "    }\n",
       "</style>\n",
       "<table border=\"1\" class=\"dataframe\">\n",
       "  <thead>\n",
       "    <tr style=\"text-align: right;\">\n",
       "      <th></th>\n",
       "      <th>Unnamed: 0</th>\n",
       "      <th>Employment Sector</th>\n",
       "      <th>Employment Background</th>\n",
       "      <th>Public Dealing</th>\n",
       "      <th>Degree</th>\n",
       "      <th>IdealNumberOfWorkdays</th>\n",
       "      <th>IdealYearlyIncome</th>\n",
       "    </tr>\n",
       "  </thead>\n",
       "  <tbody>\n",
       "    <tr>\n",
       "      <th>331</th>\n",
       "      <td>331</td>\n",
       "      <td>Private Sector</td>\n",
       "      <td>Technical</td>\n",
       "      <td>Yes</td>\n",
       "      <td>Yes</td>\n",
       "      <td>4.0</td>\n",
       "      <td>More Than 1500K</td>\n",
       "    </tr>\n",
       "    <tr>\n",
       "      <th>266</th>\n",
       "      <td>266</td>\n",
       "      <td>Entrepreneurship</td>\n",
       "      <td>Non-Technical</td>\n",
       "      <td>Yes</td>\n",
       "      <td>No</td>\n",
       "      <td>6.0</td>\n",
       "      <td>900K-1200K</td>\n",
       "    </tr>\n",
       "    <tr>\n",
       "      <th>2</th>\n",
       "      <td>2</td>\n",
       "      <td>Government Sector</td>\n",
       "      <td>Technical</td>\n",
       "      <td>No</td>\n",
       "      <td>Yes</td>\n",
       "      <td>6.0</td>\n",
       "      <td>900K-1200K</td>\n",
       "    </tr>\n",
       "    <tr>\n",
       "      <th>103</th>\n",
       "      <td>103</td>\n",
       "      <td>Private Sector</td>\n",
       "      <td>Technical</td>\n",
       "      <td>No</td>\n",
       "      <td>Yes</td>\n",
       "      <td>5.0</td>\n",
       "      <td>1200K-1500K</td>\n",
       "    </tr>\n",
       "    <tr>\n",
       "      <th>234</th>\n",
       "      <td>234</td>\n",
       "      <td>Government Sector</td>\n",
       "      <td>Non-Technical</td>\n",
       "      <td>Yes</td>\n",
       "      <td>No</td>\n",
       "      <td>5.0</td>\n",
       "      <td>1200K-1500K</td>\n",
       "    </tr>\n",
       "    <tr>\n",
       "      <th>398</th>\n",
       "      <td>398</td>\n",
       "      <td>Government Sector</td>\n",
       "      <td>Non-Technical</td>\n",
       "      <td>No</td>\n",
       "      <td>No</td>\n",
       "      <td>5.0</td>\n",
       "      <td>More Than 1500K</td>\n",
       "    </tr>\n",
       "    <tr>\n",
       "      <th>265</th>\n",
       "      <td>265</td>\n",
       "      <td>Government Sector</td>\n",
       "      <td>Non-Technical</td>\n",
       "      <td>No</td>\n",
       "      <td>Yes</td>\n",
       "      <td>5.0</td>\n",
       "      <td>600K-900K</td>\n",
       "    </tr>\n",
       "    <tr>\n",
       "      <th>352</th>\n",
       "      <td>352</td>\n",
       "      <td>Private Sector</td>\n",
       "      <td>Non-Technical</td>\n",
       "      <td>Yes</td>\n",
       "      <td>Yes</td>\n",
       "      <td>4.0</td>\n",
       "      <td>900K-1200K</td>\n",
       "    </tr>\n",
       "    <tr>\n",
       "      <th>101</th>\n",
       "      <td>101</td>\n",
       "      <td>Government Sector</td>\n",
       "      <td>Art</td>\n",
       "      <td>Yes</td>\n",
       "      <td>No</td>\n",
       "      <td>5.0</td>\n",
       "      <td>900K-1200K</td>\n",
       "    </tr>\n",
       "    <tr>\n",
       "      <th>284</th>\n",
       "      <td>284</td>\n",
       "      <td>Entrepreneurship</td>\n",
       "      <td>Art</td>\n",
       "      <td>Yes</td>\n",
       "      <td>Yes</td>\n",
       "      <td>6.0</td>\n",
       "      <td>1200K-1500K</td>\n",
       "    </tr>\n",
       "  </tbody>\n",
       "</table>\n",
       "</div>"
      ],
      "text/plain": [
       "     Unnamed: 0  Employment Sector Employment Background Public Dealing  \\\n",
       "331         331     Private Sector             Technical            Yes   \n",
       "266         266   Entrepreneurship         Non-Technical            Yes   \n",
       "2             2  Government Sector             Technical             No   \n",
       "103         103     Private Sector             Technical             No   \n",
       "234         234  Government Sector         Non-Technical            Yes   \n",
       "398         398  Government Sector         Non-Technical             No   \n",
       "265         265  Government Sector         Non-Technical            No    \n",
       "352         352     Private Sector         Non-Technical            Yes   \n",
       "101         101  Government Sector                   Art            Yes   \n",
       "284         284   Entrepreneurship                   Art            Yes   \n",
       "\n",
       "    Degree  IdealNumberOfWorkdays IdealYearlyIncome  \n",
       "331    Yes                    4.0   More Than 1500K  \n",
       "266     No                    6.0        900K-1200K  \n",
       "2      Yes                    6.0        900K-1200K  \n",
       "103    Yes                    5.0       1200K-1500K  \n",
       "234     No                    5.0       1200K-1500K  \n",
       "398     No                    5.0   More Than 1500K  \n",
       "265   Yes                     5.0         600K-900K  \n",
       "352   Yes                     4.0        900K-1200K  \n",
       "101     No                    5.0        900K-1200K  \n",
       "284    Yes                    6.0       1200K-1500K  "
      ]
     },
     "execution_count": 14,
     "metadata": {},
     "output_type": "execute_result"
    }
   ],
   "source": [
    "job.sample(10)"
   ]
  },
  {
   "cell_type": "markdown",
   "id": "b7a567fc",
   "metadata": {},
   "source": [
    "sample(10) gives the 10 random rows from the dataset"
   ]
  },
  {
   "cell_type": "code",
   "execution_count": 15,
   "id": "612f64ea",
   "metadata": {},
   "outputs": [
    {
     "data": {
      "text/html": [
       "<div>\n",
       "<style scoped>\n",
       "    .dataframe tbody tr th:only-of-type {\n",
       "        vertical-align: middle;\n",
       "    }\n",
       "\n",
       "    .dataframe tbody tr th {\n",
       "        vertical-align: top;\n",
       "    }\n",
       "\n",
       "    .dataframe thead th {\n",
       "        text-align: right;\n",
       "    }\n",
       "</style>\n",
       "<table border=\"1\" class=\"dataframe\">\n",
       "  <thead>\n",
       "    <tr style=\"text-align: right;\">\n",
       "      <th></th>\n",
       "      <th>Unnamed: 0</th>\n",
       "      <th>IdealNumberOfWorkdays</th>\n",
       "    </tr>\n",
       "  </thead>\n",
       "  <tbody>\n",
       "    <tr>\n",
       "      <th>Unnamed: 0</th>\n",
       "      <td>1.000000</td>\n",
       "      <td>-0.037991</td>\n",
       "    </tr>\n",
       "    <tr>\n",
       "      <th>IdealNumberOfWorkdays</th>\n",
       "      <td>-0.037991</td>\n",
       "      <td>1.000000</td>\n",
       "    </tr>\n",
       "  </tbody>\n",
       "</table>\n",
       "</div>"
      ],
      "text/plain": [
       "                       Unnamed: 0  IdealNumberOfWorkdays\n",
       "Unnamed: 0               1.000000              -0.037991\n",
       "IdealNumberOfWorkdays   -0.037991               1.000000"
      ]
     },
     "execution_count": 15,
     "metadata": {},
     "output_type": "execute_result"
    }
   ],
   "source": [
    "#pairwise correlation\n",
    "job.corr()"
   ]
  },
  {
   "cell_type": "markdown",
   "id": "f7b5ad64",
   "metadata": {},
   "source": [
    "corr() function is to find correlation among the columns"
   ]
  },
  {
   "cell_type": "code",
   "execution_count": 16,
   "id": "8c21ec80",
   "metadata": {},
   "outputs": [
    {
     "data": {
      "text/plain": [
       "<AxesSubplot:>"
      ]
     },
     "execution_count": 16,
     "metadata": {},
     "output_type": "execute_result"
    },
    {
     "data": {
      "image/png": "[encoded data removed]",
      "text/plain": [
       "<Figure size 432x288 with 2 Axes>"
      ]
     },
     "metadata": {
      "needs_background": "light"
     },
     "output_type": "display_data"
    }
   ],
   "source": [
    "sns.heatmap(job.corr())"
   ]
  },
  {
   "cell_type": "markdown",
   "id": "08cce220",
   "metadata": {},
   "source": [
    "heatmap created to understand the linear relationship between different variables in the job dataset Correlation heatmap is graphical representation of correlation matrix representing correlation between different variables"
   ]
  },
  {
   "cell_type": "code",
   "execution_count": 17,
   "id": "85758e2c",
   "metadata": {},
   "outputs": [
    {
     "data": {
      "text/plain": [
       "Index(['Unnamed: 0', 'Employment Sector', 'Employment Background',\n",
       "       'Public Dealing', 'Degree', 'IdealNumberOfWorkdays',\n",
       "       'IdealYearlyIncome'],\n",
       "      dtype='object')"
      ]
     },
     "execution_count": 17,
     "metadata": {},
     "output_type": "execute_result"
    }
   ],
   "source": [
    "#checking the column names\n",
    "job.columns"
   ]
  },
  {
   "cell_type": "markdown",
   "id": "f7d60f19",
   "metadata": {},
   "source": [
    "Let's look at this column by column!\n",
    "\n",
    "Employment Sector: Choice Of Sector Of Employment\n",
    "\n",
    "Employment Background: Choice Of Background Of Employment\n",
    "    \n",
    "Public Dealing: Would Public Dealing Be A Problem For You?\n",
    "    \n",
    "Degree: Are You Pursuing A Degree That Is Necessary For Your Ideal Choice Of Employment?\n",
    "    \n",
    "IdealNumberOfWorkdays: Ideal Number Of Work Days In A Week\n",
    "    \n",
    "IdealYearlyIncome: Ideal Yearly Income In Rupees"
   ]
  },
  {
   "cell_type": "code",
   "execution_count": 18,
   "id": "cce14d34",
   "metadata": {},
   "outputs": [
    {
     "data": {
      "text/html": [
       "<div>\n",
       "<style scoped>\n",
       "    .dataframe tbody tr th:only-of-type {\n",
       "        vertical-align: middle;\n",
       "    }\n",
       "\n",
       "    .dataframe tbody tr th {\n",
       "        vertical-align: top;\n",
       "    }\n",
       "\n",
       "    .dataframe thead th {\n",
       "        text-align: right;\n",
       "    }\n",
       "</style>\n",
       "<table border=\"1\" class=\"dataframe\">\n",
       "  <thead>\n",
       "    <tr style=\"text-align: right;\">\n",
       "      <th></th>\n",
       "      <th>Unnamed: 0</th>\n",
       "      <th>Employment Sector</th>\n",
       "      <th>Employment Background</th>\n",
       "      <th>Public Dealing</th>\n",
       "      <th>Degree</th>\n",
       "      <th>IdealNumberOfWorkdays</th>\n",
       "      <th>IdealYearlyIncome</th>\n",
       "    </tr>\n",
       "  </thead>\n",
       "  <tbody>\n",
       "    <tr>\n",
       "      <th>0</th>\n",
       "      <td>False</td>\n",
       "      <td>False</td>\n",
       "      <td>False</td>\n",
       "      <td>False</td>\n",
       "      <td>False</td>\n",
       "      <td>False</td>\n",
       "      <td>False</td>\n",
       "    </tr>\n",
       "    <tr>\n",
       "      <th>1</th>\n",
       "      <td>False</td>\n",
       "      <td>False</td>\n",
       "      <td>False</td>\n",
       "      <td>False</td>\n",
       "      <td>False</td>\n",
       "      <td>False</td>\n",
       "      <td>False</td>\n",
       "    </tr>\n",
       "    <tr>\n",
       "      <th>2</th>\n",
       "      <td>False</td>\n",
       "      <td>False</td>\n",
       "      <td>False</td>\n",
       "      <td>False</td>\n",
       "      <td>False</td>\n",
       "      <td>False</td>\n",
       "      <td>False</td>\n",
       "    </tr>\n",
       "    <tr>\n",
       "      <th>3</th>\n",
       "      <td>False</td>\n",
       "      <td>False</td>\n",
       "      <td>False</td>\n",
       "      <td>False</td>\n",
       "      <td>False</td>\n",
       "      <td>False</td>\n",
       "      <td>False</td>\n",
       "    </tr>\n",
       "    <tr>\n",
       "      <th>4</th>\n",
       "      <td>False</td>\n",
       "      <td>False</td>\n",
       "      <td>False</td>\n",
       "      <td>False</td>\n",
       "      <td>False</td>\n",
       "      <td>False</td>\n",
       "      <td>False</td>\n",
       "    </tr>\n",
       "    <tr>\n",
       "      <th>...</th>\n",
       "      <td>...</td>\n",
       "      <td>...</td>\n",
       "      <td>...</td>\n",
       "      <td>...</td>\n",
       "      <td>...</td>\n",
       "      <td>...</td>\n",
       "      <td>...</td>\n",
       "    </tr>\n",
       "    <tr>\n",
       "      <th>395</th>\n",
       "      <td>False</td>\n",
       "      <td>False</td>\n",
       "      <td>False</td>\n",
       "      <td>False</td>\n",
       "      <td>False</td>\n",
       "      <td>False</td>\n",
       "      <td>False</td>\n",
       "    </tr>\n",
       "    <tr>\n",
       "      <th>396</th>\n",
       "      <td>False</td>\n",
       "      <td>False</td>\n",
       "      <td>False</td>\n",
       "      <td>False</td>\n",
       "      <td>False</td>\n",
       "      <td>False</td>\n",
       "      <td>False</td>\n",
       "    </tr>\n",
       "    <tr>\n",
       "      <th>397</th>\n",
       "      <td>False</td>\n",
       "      <td>False</td>\n",
       "      <td>False</td>\n",
       "      <td>False</td>\n",
       "      <td>False</td>\n",
       "      <td>False</td>\n",
       "      <td>False</td>\n",
       "    </tr>\n",
       "    <tr>\n",
       "      <th>398</th>\n",
       "      <td>False</td>\n",
       "      <td>False</td>\n",
       "      <td>False</td>\n",
       "      <td>False</td>\n",
       "      <td>False</td>\n",
       "      <td>False</td>\n",
       "      <td>False</td>\n",
       "    </tr>\n",
       "    <tr>\n",
       "      <th>399</th>\n",
       "      <td>False</td>\n",
       "      <td>False</td>\n",
       "      <td>False</td>\n",
       "      <td>False</td>\n",
       "      <td>False</td>\n",
       "      <td>False</td>\n",
       "      <td>False</td>\n",
       "    </tr>\n",
       "  </tbody>\n",
       "</table>\n",
       "<p>400 rows × 7 columns</p>\n",
       "</div>"
      ],
      "text/plain": [
       "     Unnamed: 0  Employment Sector  Employment Background  Public Dealing  \\\n",
       "0         False              False                  False           False   \n",
       "1         False              False                  False           False   \n",
       "2         False              False                  False           False   \n",
       "3         False              False                  False           False   \n",
       "4         False              False                  False           False   \n",
       "..          ...                ...                    ...             ...   \n",
       "395       False              False                  False           False   \n",
       "396       False              False                  False           False   \n",
       "397       False              False                  False           False   \n",
       "398       False              False                  False           False   \n",
       "399       False              False                  False           False   \n",
       "\n",
       "     Degree  IdealNumberOfWorkdays  IdealYearlyIncome  \n",
       "0     False                  False              False  \n",
       "1     False                  False              False  \n",
       "2     False                  False              False  \n",
       "3     False                  False              False  \n",
       "4     False                  False              False  \n",
       "..      ...                    ...                ...  \n",
       "395   False                  False              False  \n",
       "396   False                  False              False  \n",
       "397   False                  False              False  \n",
       "398   False                  False              False  \n",
       "399   False                  False              False  \n",
       "\n",
       "[400 rows x 7 columns]"
      ]
     },
     "execution_count": 18,
     "metadata": {},
     "output_type": "execute_result"
    }
   ],
   "source": [
    "#missing values\n",
    "job.isnull()"
   ]
  },
  {
   "cell_type": "code",
   "execution_count": 19,
   "id": "692339b5",
   "metadata": {},
   "outputs": [
    {
     "data": {
      "text/plain": [
       "Unnamed: 0               0\n",
       "Employment Sector        0\n",
       "Employment Background    0\n",
       "Public Dealing           0\n",
       "Degree                   0\n",
       "IdealNumberOfWorkdays    0\n",
       "IdealYearlyIncome        0\n",
       "dtype: int64"
      ]
     },
     "execution_count": 19,
     "metadata": {},
     "output_type": "execute_result"
    }
   ],
   "source": [
    "#number of missing values\n",
    "job.isnull().sum()"
   ]
  },
  {
   "cell_type": "markdown",
   "id": "d41363dc",
   "metadata": {},
   "source": [
    "There is no null values in the dataset"
   ]
  },
  {
   "cell_type": "code",
   "execution_count": 12,
   "id": "75b4958d",
   "metadata": {},
   "outputs": [],
   "source": [
    "#Replacing Values for Non-Ambiguity Entries.\n",
    "\n",
    "job['Employment Background'] = job['Employment Background'].apply(lambda x:'Art' if x=='Art ' else x )\n",
    "job['Degree'] =job['Degree'].apply(lambda x:'Yes' if x=='Yes ' else x)\n",
    "job['Public Dealing'] =job['Public Dealing'].apply(lambda x:'No' if x=='No ' else x)"
   ]
  },
  {
   "cell_type": "code",
   "execution_count": 13,
   "id": "e59e567c",
   "metadata": {},
   "outputs": [],
   "source": [
    "#Dropping the Unnecessary column.\n",
    "\n",
    "job.drop(columns='Unnamed: 0',inplace=True)"
   ]
  },
  {
   "cell_type": "markdown",
   "id": "e3c9a2c2",
   "metadata": {},
   "source": [
    "drop()function is used to remove row or columns by specifying label names and corresponding axis"
   ]
  },
  {
   "cell_type": "code",
   "execution_count": null,
   "id": "fe3f5910",
   "metadata": {},
   "outputs": [],
   "source": []
  },
  {
   "cell_type": "code",
   "execution_count": null,
   "id": "27738536",
   "metadata": {},
   "outputs": [],
   "source": []
  },
  {
   "cell_type": "markdown",
   "id": "ac195dc2",
   "metadata": {},
   "source": [
    " lets replace the categorical value with a numeric value using label encoder"
   ]
  },
  {
   "cell_type": "code",
   "execution_count": 24,
   "id": "0e3459ae",
   "metadata": {},
   "outputs": [],
   "source": [
    "from sklearn import preprocessing\n",
    " \n",
    "\n",
    "label_encoder = preprocessing.LabelEncoder()"
   ]
  },
  {
   "cell_type": "code",
   "execution_count": 25,
   "id": "65e395c5",
   "metadata": {},
   "outputs": [],
   "source": [
    "job[\"Employment Sector_label\"]=label_encoder.fit_transform(job[\"Employment Sector\"])"
   ]
  },
  {
   "cell_type": "code",
   "execution_count": 12,
   "id": "896957e9",
   "metadata": {},
   "outputs": [
    {
     "data": {
      "text/html": [
       "<div>\n",
       "<style scoped>\n",
       "    .dataframe tbody tr th:only-of-type {\n",
       "        vertical-align: middle;\n",
       "    }\n",
       "\n",
       "    .dataframe tbody tr th {\n",
       "        vertical-align: top;\n",
       "    }\n",
       "\n",
       "    .dataframe thead th {\n",
       "        text-align: right;\n",
       "    }\n",
       "</style>\n",
       "<table border=\"1\" class=\"dataframe\">\n",
       "  <thead>\n",
       "    <tr style=\"text-align: right;\">\n",
       "      <th></th>\n",
       "      <th>Unnamed: 0</th>\n",
       "      <th>Employment Sector</th>\n",
       "      <th>Employment Background</th>\n",
       "      <th>Public Dealing</th>\n",
       "      <th>Degree</th>\n",
       "      <th>IdealNumberOfWorkdays</th>\n",
       "      <th>IdealYearlyIncome</th>\n",
       "      <th>Employment Sector_label</th>\n",
       "    </tr>\n",
       "  </thead>\n",
       "  <tbody>\n",
       "    <tr>\n",
       "      <th>0</th>\n",
       "      <td>0</td>\n",
       "      <td>Private Sector</td>\n",
       "      <td>Technical</td>\n",
       "      <td>No</td>\n",
       "      <td>Yes</td>\n",
       "      <td>4.0</td>\n",
       "      <td>More Than 1500K</td>\n",
       "      <td>2</td>\n",
       "    </tr>\n",
       "    <tr>\n",
       "      <th>1</th>\n",
       "      <td>1</td>\n",
       "      <td>Private Sector</td>\n",
       "      <td>Art</td>\n",
       "      <td>No</td>\n",
       "      <td>Yes</td>\n",
       "      <td>4.0</td>\n",
       "      <td>600K-900K</td>\n",
       "      <td>2</td>\n",
       "    </tr>\n",
       "    <tr>\n",
       "      <th>2</th>\n",
       "      <td>2</td>\n",
       "      <td>Government Sector</td>\n",
       "      <td>Technical</td>\n",
       "      <td>No</td>\n",
       "      <td>Yes</td>\n",
       "      <td>6.0</td>\n",
       "      <td>900K-1200K</td>\n",
       "      <td>1</td>\n",
       "    </tr>\n",
       "    <tr>\n",
       "      <th>3</th>\n",
       "      <td>3</td>\n",
       "      <td>Government Sector</td>\n",
       "      <td>Non-Technical</td>\n",
       "      <td>Yes</td>\n",
       "      <td>Yes</td>\n",
       "      <td>4.0</td>\n",
       "      <td>900K-1200K</td>\n",
       "      <td>1</td>\n",
       "    </tr>\n",
       "    <tr>\n",
       "      <th>4</th>\n",
       "      <td>4</td>\n",
       "      <td>Private Sector</td>\n",
       "      <td>Technical</td>\n",
       "      <td>No</td>\n",
       "      <td>Yes</td>\n",
       "      <td>5.0</td>\n",
       "      <td>1200K-1500K</td>\n",
       "      <td>2</td>\n",
       "    </tr>\n",
       "    <tr>\n",
       "      <th>...</th>\n",
       "      <td>...</td>\n",
       "      <td>...</td>\n",
       "      <td>...</td>\n",
       "      <td>...</td>\n",
       "      <td>...</td>\n",
       "      <td>...</td>\n",
       "      <td>...</td>\n",
       "      <td>...</td>\n",
       "    </tr>\n",
       "    <tr>\n",
       "      <th>395</th>\n",
       "      <td>395</td>\n",
       "      <td>Private Sector</td>\n",
       "      <td>Non-Technical</td>\n",
       "      <td>No</td>\n",
       "      <td>Yes</td>\n",
       "      <td>5.0</td>\n",
       "      <td>600K-900K</td>\n",
       "      <td>2</td>\n",
       "    </tr>\n",
       "    <tr>\n",
       "      <th>396</th>\n",
       "      <td>396</td>\n",
       "      <td>Government Sector</td>\n",
       "      <td>Non-Technical</td>\n",
       "      <td>Yes</td>\n",
       "      <td>No</td>\n",
       "      <td>4.0</td>\n",
       "      <td>900K-1200K</td>\n",
       "      <td>1</td>\n",
       "    </tr>\n",
       "    <tr>\n",
       "      <th>397</th>\n",
       "      <td>397</td>\n",
       "      <td>Government Sector</td>\n",
       "      <td>Non-Technical</td>\n",
       "      <td>Yes</td>\n",
       "      <td>No</td>\n",
       "      <td>4.0</td>\n",
       "      <td>900K-1200K</td>\n",
       "      <td>1</td>\n",
       "    </tr>\n",
       "    <tr>\n",
       "      <th>398</th>\n",
       "      <td>398</td>\n",
       "      <td>Government Sector</td>\n",
       "      <td>Non-Technical</td>\n",
       "      <td>No</td>\n",
       "      <td>No</td>\n",
       "      <td>5.0</td>\n",
       "      <td>More Than 1500K</td>\n",
       "      <td>1</td>\n",
       "    </tr>\n",
       "    <tr>\n",
       "      <th>399</th>\n",
       "      <td>399</td>\n",
       "      <td>Entrepreneurship</td>\n",
       "      <td>Non-Technical</td>\n",
       "      <td>Yes</td>\n",
       "      <td>No</td>\n",
       "      <td>6.0</td>\n",
       "      <td>900K-1200K</td>\n",
       "      <td>0</td>\n",
       "    </tr>\n",
       "  </tbody>\n",
       "</table>\n",
       "<p>400 rows × 8 columns</p>\n",
       "</div>"
      ],
      "text/plain": [
       "     Unnamed: 0  Employment Sector Employment Background Public Dealing  \\\n",
       "0             0     Private Sector             Technical             No   \n",
       "1             1     Private Sector                  Art             No    \n",
       "2             2  Government Sector             Technical             No   \n",
       "3             3  Government Sector         Non-Technical            Yes   \n",
       "4             4     Private Sector             Technical             No   \n",
       "..          ...                ...                   ...            ...   \n",
       "395         395     Private Sector         Non-Technical            No    \n",
       "396         396  Government Sector         Non-Technical            Yes   \n",
       "397         397  Government Sector         Non-Technical            Yes   \n",
       "398         398  Government Sector         Non-Technical             No   \n",
       "399         399   Entrepreneurship         Non-Technical            Yes   \n",
       "\n",
       "    Degree  IdealNumberOfWorkdays IdealYearlyIncome  Employment Sector_label  \n",
       "0      Yes                    4.0   More Than 1500K                        2  \n",
       "1     Yes                     4.0         600K-900K                        2  \n",
       "2      Yes                    6.0        900K-1200K                        1  \n",
       "3     Yes                     4.0        900K-1200K                        1  \n",
       "4      Yes                    5.0       1200K-1500K                        2  \n",
       "..     ...                    ...               ...                      ...  \n",
       "395   Yes                     5.0         600K-900K                        2  \n",
       "396     No                    4.0        900K-1200K                        1  \n",
       "397     No                    4.0        900K-1200K                        1  \n",
       "398     No                    5.0   More Than 1500K                        1  \n",
       "399     No                    6.0        900K-1200K                        0  \n",
       "\n",
       "[400 rows x 8 columns]"
      ]
     },
     "execution_count": 12,
     "metadata": {},
     "output_type": "execute_result"
    }
   ],
   "source": [
    "job"
   ]
  },
  {
   "cell_type": "markdown",
   "id": "236a680f",
   "metadata": {},
   "source": [
    "If the categorical variable value contains 5 distinct classes, we use (0, 1, 2, 3, and 4)\n",
    "here ,the value contains 3 distinct classes,so we use (0,1,2)"
   ]
  },
  {
   "cell_type": "code",
   "execution_count": null,
   "id": "1ab2ad57",
   "metadata": {},
   "outputs": [],
   "source": []
  },
  {
   "cell_type": "code",
   "execution_count": 58,
   "id": "d5f8807a",
   "metadata": {},
   "outputs": [
    {
     "data": {
      "text/html": [
       "<div>\n",
       "<style scoped>\n",
       "    .dataframe tbody tr th:only-of-type {\n",
       "        vertical-align: middle;\n",
       "    }\n",
       "\n",
       "    .dataframe tbody tr th {\n",
       "        vertical-align: top;\n",
       "    }\n",
       "\n",
       "    .dataframe thead th {\n",
       "        text-align: right;\n",
       "    }\n",
       "</style>\n",
       "<table border=\"1\" class=\"dataframe\">\n",
       "  <thead>\n",
       "    <tr style=\"text-align: right;\">\n",
       "      <th></th>\n",
       "      <th>Employment Sector</th>\n",
       "      <th>Employment Background</th>\n",
       "      <th>Public Dealing</th>\n",
       "      <th>Degree</th>\n",
       "      <th>IdealNumberOfWorkdays</th>\n",
       "      <th>IdealYearlyIncome</th>\n",
       "      <th>Employment Sector_label</th>\n",
       "    </tr>\n",
       "  </thead>\n",
       "  <tbody>\n",
       "    <tr>\n",
       "      <th>2</th>\n",
       "      <td>Government Sector</td>\n",
       "      <td>Technical</td>\n",
       "      <td>No</td>\n",
       "      <td>Yes</td>\n",
       "      <td>6.0</td>\n",
       "      <td>900K-1200K</td>\n",
       "      <td>1</td>\n",
       "    </tr>\n",
       "    <tr>\n",
       "      <th>3</th>\n",
       "      <td>Government Sector</td>\n",
       "      <td>Non-Technical</td>\n",
       "      <td>Yes</td>\n",
       "      <td>Yes</td>\n",
       "      <td>4.0</td>\n",
       "      <td>900K-1200K</td>\n",
       "      <td>1</td>\n",
       "    </tr>\n",
       "    <tr>\n",
       "      <th>9</th>\n",
       "      <td>Government Sector</td>\n",
       "      <td>Non-Technical</td>\n",
       "      <td>Yes</td>\n",
       "      <td>No</td>\n",
       "      <td>4.0</td>\n",
       "      <td>900K-1200K</td>\n",
       "      <td>1</td>\n",
       "    </tr>\n",
       "    <tr>\n",
       "      <th>10</th>\n",
       "      <td>Government Sector</td>\n",
       "      <td>Art</td>\n",
       "      <td>Yes</td>\n",
       "      <td>No</td>\n",
       "      <td>5.0</td>\n",
       "      <td>900K-1200K</td>\n",
       "      <td>1</td>\n",
       "    </tr>\n",
       "    <tr>\n",
       "      <th>11</th>\n",
       "      <td>Government Sector</td>\n",
       "      <td>Non-Technical</td>\n",
       "      <td>No</td>\n",
       "      <td>No</td>\n",
       "      <td>5.0</td>\n",
       "      <td>More Than 1500K</td>\n",
       "      <td>1</td>\n",
       "    </tr>\n",
       "    <tr>\n",
       "      <th>...</th>\n",
       "      <td>...</td>\n",
       "      <td>...</td>\n",
       "      <td>...</td>\n",
       "      <td>...</td>\n",
       "      <td>...</td>\n",
       "      <td>...</td>\n",
       "      <td>...</td>\n",
       "    </tr>\n",
       "    <tr>\n",
       "      <th>390</th>\n",
       "      <td>Government Sector</td>\n",
       "      <td>Non-Technical</td>\n",
       "      <td>Yes</td>\n",
       "      <td>No</td>\n",
       "      <td>5.0</td>\n",
       "      <td>1200K-1500K</td>\n",
       "      <td>1</td>\n",
       "    </tr>\n",
       "    <tr>\n",
       "      <th>393</th>\n",
       "      <td>Government Sector</td>\n",
       "      <td>Technical</td>\n",
       "      <td>No</td>\n",
       "      <td>No</td>\n",
       "      <td>5.0</td>\n",
       "      <td>More Than 1500K</td>\n",
       "      <td>1</td>\n",
       "    </tr>\n",
       "    <tr>\n",
       "      <th>396</th>\n",
       "      <td>Government Sector</td>\n",
       "      <td>Non-Technical</td>\n",
       "      <td>Yes</td>\n",
       "      <td>No</td>\n",
       "      <td>4.0</td>\n",
       "      <td>900K-1200K</td>\n",
       "      <td>1</td>\n",
       "    </tr>\n",
       "    <tr>\n",
       "      <th>397</th>\n",
       "      <td>Government Sector</td>\n",
       "      <td>Non-Technical</td>\n",
       "      <td>Yes</td>\n",
       "      <td>No</td>\n",
       "      <td>4.0</td>\n",
       "      <td>900K-1200K</td>\n",
       "      <td>1</td>\n",
       "    </tr>\n",
       "    <tr>\n",
       "      <th>398</th>\n",
       "      <td>Government Sector</td>\n",
       "      <td>Non-Technical</td>\n",
       "      <td>No</td>\n",
       "      <td>No</td>\n",
       "      <td>5.0</td>\n",
       "      <td>More Than 1500K</td>\n",
       "      <td>1</td>\n",
       "    </tr>\n",
       "  </tbody>\n",
       "</table>\n",
       "<p>189 rows × 7 columns</p>\n",
       "</div>"
      ],
      "text/plain": [
       "     Employment Sector Employment Background Public Dealing Degree  \\\n",
       "2    Government Sector             Technical             No    Yes   \n",
       "3    Government Sector         Non-Technical            Yes   Yes    \n",
       "9    Government Sector         Non-Technical            Yes     No   \n",
       "10   Government Sector                   Art            Yes     No   \n",
       "11   Government Sector         Non-Technical             No     No   \n",
       "..                 ...                   ...            ...    ...   \n",
       "390  Government Sector         Non-Technical            Yes     No   \n",
       "393  Government Sector             Technical             No     No   \n",
       "396  Government Sector         Non-Technical            Yes     No   \n",
       "397  Government Sector         Non-Technical            Yes     No   \n",
       "398  Government Sector         Non-Technical             No     No   \n",
       "\n",
       "     IdealNumberOfWorkdays IdealYearlyIncome  Employment Sector_label  \n",
       "2                      6.0        900K-1200K                        1  \n",
       "3                      4.0        900K-1200K                        1  \n",
       "9                      4.0        900K-1200K                        1  \n",
       "10                     5.0        900K-1200K                        1  \n",
       "11                     5.0   More Than 1500K                        1  \n",
       "..                     ...               ...                      ...  \n",
       "390                    5.0       1200K-1500K                        1  \n",
       "393                    5.0   More Than 1500K                        1  \n",
       "396                    4.0        900K-1200K                        1  \n",
       "397                    4.0        900K-1200K                        1  \n",
       "398                    5.0   More Than 1500K                        1  \n",
       "\n",
       "[189 rows x 7 columns]"
      ]
     },
     "execution_count": 58,
     "metadata": {},
     "output_type": "execute_result"
    }
   ],
   "source": [
    "#students prefer government sector\n",
    "job[job['Employment Sector']=='Government Sector']"
   ]
  },
  {
   "cell_type": "markdown",
   "id": "3377c85a",
   "metadata": {},
   "source": [
    "here we can see that half of the students Choice Of  Employment sector is government sector.and most of them are not Pursuing A Degree That Is Necessary For their Ideal Choice Of Employment"
   ]
  },
  {
   "cell_type": "code",
   "execution_count": 59,
   "id": "ba64eff7",
   "metadata": {},
   "outputs": [
    {
     "data": {
      "text/html": [
       "<div>\n",
       "<style scoped>\n",
       "    .dataframe tbody tr th:only-of-type {\n",
       "        vertical-align: middle;\n",
       "    }\n",
       "\n",
       "    .dataframe tbody tr th {\n",
       "        vertical-align: top;\n",
       "    }\n",
       "\n",
       "    .dataframe thead th {\n",
       "        text-align: right;\n",
       "    }\n",
       "</style>\n",
       "<table border=\"1\" class=\"dataframe\">\n",
       "  <thead>\n",
       "    <tr style=\"text-align: right;\">\n",
       "      <th></th>\n",
       "      <th>Employment Sector</th>\n",
       "      <th>Employment Background</th>\n",
       "      <th>Public Dealing</th>\n",
       "      <th>Degree</th>\n",
       "      <th>IdealNumberOfWorkdays</th>\n",
       "      <th>IdealYearlyIncome</th>\n",
       "      <th>Employment Sector_label</th>\n",
       "    </tr>\n",
       "  </thead>\n",
       "  <tbody>\n",
       "    <tr>\n",
       "      <th>30</th>\n",
       "      <td>Entrepreneurship</td>\n",
       "      <td>Art</td>\n",
       "      <td>Yes</td>\n",
       "      <td>Yes</td>\n",
       "      <td>7.0</td>\n",
       "      <td>1200K-1500K</td>\n",
       "      <td>0</td>\n",
       "    </tr>\n",
       "    <tr>\n",
       "      <th>67</th>\n",
       "      <td>Entrepreneurship</td>\n",
       "      <td>Art</td>\n",
       "      <td>Yes</td>\n",
       "      <td>Yes</td>\n",
       "      <td>7.0</td>\n",
       "      <td>1200K-1500K</td>\n",
       "      <td>0</td>\n",
       "    </tr>\n",
       "    <tr>\n",
       "      <th>89</th>\n",
       "      <td>Entrepreneurship</td>\n",
       "      <td>Art</td>\n",
       "      <td>Yes</td>\n",
       "      <td>Yes</td>\n",
       "      <td>7.0</td>\n",
       "      <td>1200K-1500K</td>\n",
       "      <td>0</td>\n",
       "    </tr>\n",
       "    <tr>\n",
       "      <th>105</th>\n",
       "      <td>Entrepreneurship</td>\n",
       "      <td>Art</td>\n",
       "      <td>Yes</td>\n",
       "      <td>Yes</td>\n",
       "      <td>7.0</td>\n",
       "      <td>1200K-1500K</td>\n",
       "      <td>0</td>\n",
       "    </tr>\n",
       "    <tr>\n",
       "      <th>122</th>\n",
       "      <td>Entrepreneurship</td>\n",
       "      <td>Art</td>\n",
       "      <td>Yes</td>\n",
       "      <td>Yes</td>\n",
       "      <td>7.0</td>\n",
       "      <td>1200K-1500K</td>\n",
       "      <td>0</td>\n",
       "    </tr>\n",
       "    <tr>\n",
       "      <th>144</th>\n",
       "      <td>Entrepreneurship</td>\n",
       "      <td>Art</td>\n",
       "      <td>Yes</td>\n",
       "      <td>Yes</td>\n",
       "      <td>7.0</td>\n",
       "      <td>1200K-1500K</td>\n",
       "      <td>0</td>\n",
       "    </tr>\n",
       "    <tr>\n",
       "      <th>161</th>\n",
       "      <td>Entrepreneurship</td>\n",
       "      <td>Art</td>\n",
       "      <td>Yes</td>\n",
       "      <td>Yes</td>\n",
       "      <td>7.0</td>\n",
       "      <td>1200K-1500K</td>\n",
       "      <td>0</td>\n",
       "    </tr>\n",
       "    <tr>\n",
       "      <th>162</th>\n",
       "      <td>Entrepreneurship</td>\n",
       "      <td>Art</td>\n",
       "      <td>Yes</td>\n",
       "      <td>Yes</td>\n",
       "      <td>7.0</td>\n",
       "      <td>1200K-1500K</td>\n",
       "      <td>0</td>\n",
       "    </tr>\n",
       "    <tr>\n",
       "      <th>215</th>\n",
       "      <td>Entrepreneurship</td>\n",
       "      <td>Art</td>\n",
       "      <td>Yes</td>\n",
       "      <td>Yes</td>\n",
       "      <td>7.0</td>\n",
       "      <td>1200K-1500K</td>\n",
       "      <td>0</td>\n",
       "    </tr>\n",
       "    <tr>\n",
       "      <th>222</th>\n",
       "      <td>Entrepreneurship</td>\n",
       "      <td>Art</td>\n",
       "      <td>Yes</td>\n",
       "      <td>Yes</td>\n",
       "      <td>7.0</td>\n",
       "      <td>1200K-1500K</td>\n",
       "      <td>0</td>\n",
       "    </tr>\n",
       "    <tr>\n",
       "      <th>279</th>\n",
       "      <td>Entrepreneurship</td>\n",
       "      <td>Art</td>\n",
       "      <td>Yes</td>\n",
       "      <td>Yes</td>\n",
       "      <td>7.0</td>\n",
       "      <td>1200K-1500K</td>\n",
       "      <td>0</td>\n",
       "    </tr>\n",
       "    <tr>\n",
       "      <th>289</th>\n",
       "      <td>Entrepreneurship</td>\n",
       "      <td>Art</td>\n",
       "      <td>Yes</td>\n",
       "      <td>Yes</td>\n",
       "      <td>7.0</td>\n",
       "      <td>1200K-1500K</td>\n",
       "      <td>0</td>\n",
       "    </tr>\n",
       "    <tr>\n",
       "      <th>301</th>\n",
       "      <td>Entrepreneurship</td>\n",
       "      <td>Art</td>\n",
       "      <td>Yes</td>\n",
       "      <td>Yes</td>\n",
       "      <td>7.0</td>\n",
       "      <td>1200K-1500K</td>\n",
       "      <td>0</td>\n",
       "    </tr>\n",
       "    <tr>\n",
       "      <th>314</th>\n",
       "      <td>Entrepreneurship</td>\n",
       "      <td>Art</td>\n",
       "      <td>Yes</td>\n",
       "      <td>Yes</td>\n",
       "      <td>7.0</td>\n",
       "      <td>1200K-1500K</td>\n",
       "      <td>0</td>\n",
       "    </tr>\n",
       "    <tr>\n",
       "      <th>381</th>\n",
       "      <td>Entrepreneurship</td>\n",
       "      <td>Art</td>\n",
       "      <td>No</td>\n",
       "      <td>Yes</td>\n",
       "      <td>7.0</td>\n",
       "      <td>1200K-1500K</td>\n",
       "      <td>0</td>\n",
       "    </tr>\n",
       "  </tbody>\n",
       "</table>\n",
       "</div>"
      ],
      "text/plain": [
       "    Employment Sector Employment Background Public Dealing Degree  \\\n",
       "30   Entrepreneurship                   Art            Yes    Yes   \n",
       "67   Entrepreneurship                   Art            Yes    Yes   \n",
       "89   Entrepreneurship                   Art            Yes    Yes   \n",
       "105  Entrepreneurship                   Art            Yes    Yes   \n",
       "122  Entrepreneurship                   Art            Yes    Yes   \n",
       "144  Entrepreneurship                   Art            Yes    Yes   \n",
       "161  Entrepreneurship                   Art            Yes    Yes   \n",
       "162  Entrepreneurship                   Art            Yes    Yes   \n",
       "215  Entrepreneurship                   Art            Yes    Yes   \n",
       "222  Entrepreneurship                   Art            Yes    Yes   \n",
       "279  Entrepreneurship                   Art            Yes    Yes   \n",
       "289  Entrepreneurship                   Art            Yes    Yes   \n",
       "301  Entrepreneurship                   Art            Yes    Yes   \n",
       "314  Entrepreneurship                   Art            Yes    Yes   \n",
       "381  Entrepreneurship                   Art             No    Yes   \n",
       "\n",
       "     IdealNumberOfWorkdays IdealYearlyIncome  Employment Sector_label  \n",
       "30                     7.0       1200K-1500K                        0  \n",
       "67                     7.0       1200K-1500K                        0  \n",
       "89                     7.0       1200K-1500K                        0  \n",
       "105                    7.0       1200K-1500K                        0  \n",
       "122                    7.0       1200K-1500K                        0  \n",
       "144                    7.0       1200K-1500K                        0  \n",
       "161                    7.0       1200K-1500K                        0  \n",
       "162                    7.0       1200K-1500K                        0  \n",
       "215                    7.0       1200K-1500K                        0  \n",
       "222                    7.0       1200K-1500K                        0  \n",
       "279                    7.0       1200K-1500K                        0  \n",
       "289                    7.0       1200K-1500K                        0  \n",
       "301                    7.0       1200K-1500K                        0  \n",
       "314                    7.0       1200K-1500K                        0  \n",
       "381                    7.0       1200K-1500K                        0  "
      ]
     },
     "execution_count": 59,
     "metadata": {},
     "output_type": "execute_result"
    }
   ],
   "source": [
    "#students prefer greater than 6 working days in a week\n",
    "job[job['IdealNumberOfWorkdays']>6]"
   ]
  },
  {
   "cell_type": "markdown",
   "id": "61562e10",
   "metadata": {},
   "source": [
    "here we can see that most of the students who prefer seven days  Of Work Days In A Week are selected entrepreneurship sector"
   ]
  },
  {
   "cell_type": "code",
   "execution_count": 61,
   "id": "f3fac109",
   "metadata": {},
   "outputs": [
    {
     "name": "stdout",
     "output_type": "stream",
     "text": [
      "33.75 % of Students Prefer to be in Private Sector.\n",
      "47.25 % of Students Prefer to be in Government Sector.\n",
      "19.0 % of Students Prefer to be a Entrepreuner.\n"
     ]
    }
   ],
   "source": [
    "#percentage of preference of distinct Sector\n",
    "\n",
    "sec1= job.loc[job['Employment Sector']=='Private Sector']\n",
    "sec2= job.loc[job['Employment Sector']=='Government Sector']\n",
    "sec3= job.loc[job['Employment Sector']=='Entrepreneurship']\n",
    "\n",
    "private= 100*(len(sec1)/len(job))\n",
    "govt= 100*(len(sec2)/len(job))\n",
    "entre= 100*(len(sec3)/len(job))\n",
    "\n",
    "print(private,'% of Students Prefer to be in Private Sector.')\n",
    "print(govt,'% of Students Prefer to be in Government Sector.')\n",
    "print(entre,'% of Students Prefer to be a Entrepreuner.')"
   ]
  },
  {
   "cell_type": "markdown",
   "id": "de9fec6a",
   "metadata": {},
   "source": [
    "loc()function helps us to retrieve data values from a dataset at an ease.using the loc() function, we can access the data values fitted in the particular row or column based on the index value passed to the function."
   ]
  },
  {
   "cell_type": "code",
   "execution_count": 62,
   "id": "564c8798",
   "metadata": {},
   "outputs": [
    {
     "name": "stdout",
     "output_type": "stream",
     "text": [
      "29.0 % of Students Prefer to go into Technical Field.\n",
      "55.5 % of Students Prefer to go into Non-Technical Field.\n",
      "15.5 % of Students Prefer to go into Art Field.\n"
     ]
    }
   ],
   "source": [
    "#percentage of preference in Distinct Background\n",
    "\n",
    "sec1= job.loc[job['Employment Background']=='Technical']\n",
    "sec2= job.loc[job['Employment Background']=='Non-Technical']\n",
    "sec3= job.loc[job['Employment Background']=='Art']\n",
    "\n",
    "Tech= round(100*(len(sec1)/len(job)),2)\n",
    "Non_Tech= round(100*(len(sec2)/len(job)),2)\n",
    "Art= round(100*(len(sec3)/len(job)),2)\n",
    "\n",
    "print(Tech,'% of Students Prefer to go into Technical Field.')\n",
    "print(Non_Tech,'% of Students Prefer to go into Non-Technical Field.')\n",
    "print(Art,'% of Students Prefer to go into Art Field.')"
   ]
  },
  {
   "cell_type": "code",
   "execution_count": 22,
   "id": "0a90b8d6",
   "metadata": {},
   "outputs": [
    {
     "data": {
      "text/plain": [
       "KMeans(n_clusters=3)"
      ]
     },
     "execution_count": 22,
     "metadata": {},
     "output_type": "execute_result"
    }
   ],
   "source": [
    "#K-Means model with three clusters \n",
    "km=KMeans(n_clusters=3)\n",
    "km"
   ]
  },
  {
   "cell_type": "code",
   "execution_count": 26,
   "id": "502f5928",
   "metadata": {},
   "outputs": [
    {
     "data": {
      "text/plain": [
       "array([1, 1, 2, 1, 2, 2, 1, 1, 2, 1, 2, 2, 2, 2, 1, 2, 2, 1, 2, 1, 0, 2,\n",
       "       0, 0, 1, 1, 2, 0, 0, 1, 0, 2, 2, 2, 1, 1, 2, 0, 0, 2, 1, 2, 1, 0,\n",
       "       1, 2, 2, 0, 2, 2, 0, 0, 0, 2, 2, 1, 2, 2, 0, 0, 0, 2, 0, 0, 2, 2,\n",
       "       1, 0, 0, 2, 2, 2, 1, 1, 0, 0, 0, 2, 2, 2, 1, 2, 1, 1, 2, 1, 1, 1,\n",
       "       2, 0, 0, 2, 2, 1, 1, 2, 2, 2, 1, 0, 1, 2, 2, 2, 1, 0, 2, 2, 1, 1,\n",
       "       2, 1, 2, 1, 0, 1, 2, 2, 2, 2, 0, 1, 0, 0, 2, 0, 1, 1, 1, 2, 1, 1,\n",
       "       1, 1, 2, 2, 2, 1, 2, 0, 2, 2, 1, 0, 0, 2, 1, 1, 2, 2, 1, 0, 2, 1,\n",
       "       1, 1, 2, 2, 0, 0, 1, 0, 0, 2, 1, 2, 2, 2, 2, 1, 1, 2, 2, 0, 2, 2,\n",
       "       1, 2, 1, 1, 1, 2, 2, 2, 0, 0, 1, 1, 2, 2, 1, 0, 2, 2, 1, 1, 2, 1,\n",
       "       1, 1, 1, 2, 1, 2, 2, 1, 2, 2, 2, 1, 2, 0, 1, 1, 2, 0, 1, 1, 1, 2,\n",
       "       2, 1, 0, 2, 2, 1, 1, 2, 2, 2, 1, 2, 1, 0, 2, 1, 2, 1, 2, 2, 2, 2,\n",
       "       1, 1, 2, 2, 1, 2, 1, 2, 1, 1, 2, 2, 1, 1, 0, 2, 1, 1, 2, 2, 2, 0,\n",
       "       0, 2, 0, 2, 1, 2, 2, 2, 1, 1, 2, 2, 2, 2, 1, 0, 2, 1, 0, 2, 0, 1,\n",
       "       0, 2, 0, 0, 2, 0, 2, 2, 2, 0, 0, 1, 1, 0, 2, 0, 1, 2, 1, 1, 1, 1,\n",
       "       2, 1, 2, 2, 1, 2, 0, 2, 2, 1, 1, 2, 1, 0, 2, 2, 0, 2, 2, 2, 2, 1,\n",
       "       2, 1, 1, 1, 1, 1, 2, 2, 1, 0, 2, 2, 2, 1, 1, 2, 2, 2, 1, 2, 1, 2,\n",
       "       1, 2, 2, 2, 2, 0, 2, 2, 1, 2, 2, 2, 0, 0, 2, 2, 2, 1, 1, 2, 0, 1,\n",
       "       2, 0, 2, 2, 2, 2, 2, 0, 0, 1, 1, 2, 1, 1, 0, 2, 2, 1, 2, 2, 2, 2,\n",
       "       1, 1, 2, 0])"
      ]
     },
     "execution_count": 26,
     "metadata": {},
     "output_type": "execute_result"
    }
   ],
   "source": [
    "\n",
    "y_predicted=km.fit_predict(job[['IdealNumberOfWorkdays','Employment Sector_label']])\n",
    "y_predicted"
   ]
  },
  {
   "cell_type": "code",
   "execution_count": 15,
   "id": "8f4eaacf",
   "metadata": {},
   "outputs": [
    {
     "data": {
      "text/html": [
       "<div>\n",
       "<style scoped>\n",
       "    .dataframe tbody tr th:only-of-type {\n",
       "        vertical-align: middle;\n",
       "    }\n",
       "\n",
       "    .dataframe tbody tr th {\n",
       "        vertical-align: top;\n",
       "    }\n",
       "\n",
       "    .dataframe thead th {\n",
       "        text-align: right;\n",
       "    }\n",
       "</style>\n",
       "<table border=\"1\" class=\"dataframe\">\n",
       "  <thead>\n",
       "    <tr style=\"text-align: right;\">\n",
       "      <th></th>\n",
       "      <th>Unnamed: 0</th>\n",
       "      <th>Employment Sector</th>\n",
       "      <th>Employment Background</th>\n",
       "      <th>Public Dealing</th>\n",
       "      <th>Degree</th>\n",
       "      <th>IdealNumberOfWorkdays</th>\n",
       "      <th>IdealYearlyIncome</th>\n",
       "      <th>Employment Sector_label</th>\n",
       "      <th>cluster</th>\n",
       "    </tr>\n",
       "  </thead>\n",
       "  <tbody>\n",
       "    <tr>\n",
       "      <th>0</th>\n",
       "      <td>0</td>\n",
       "      <td>Private Sector</td>\n",
       "      <td>Technical</td>\n",
       "      <td>No</td>\n",
       "      <td>Yes</td>\n",
       "      <td>4.0</td>\n",
       "      <td>More Than 1500K</td>\n",
       "      <td>2</td>\n",
       "      <td>1</td>\n",
       "    </tr>\n",
       "    <tr>\n",
       "      <th>1</th>\n",
       "      <td>1</td>\n",
       "      <td>Private Sector</td>\n",
       "      <td>Art</td>\n",
       "      <td>No</td>\n",
       "      <td>Yes</td>\n",
       "      <td>4.0</td>\n",
       "      <td>600K-900K</td>\n",
       "      <td>2</td>\n",
       "      <td>1</td>\n",
       "    </tr>\n",
       "    <tr>\n",
       "      <th>2</th>\n",
       "      <td>2</td>\n",
       "      <td>Government Sector</td>\n",
       "      <td>Technical</td>\n",
       "      <td>No</td>\n",
       "      <td>Yes</td>\n",
       "      <td>6.0</td>\n",
       "      <td>900K-1200K</td>\n",
       "      <td>1</td>\n",
       "      <td>0</td>\n",
       "    </tr>\n",
       "    <tr>\n",
       "      <th>3</th>\n",
       "      <td>3</td>\n",
       "      <td>Government Sector</td>\n",
       "      <td>Non-Technical</td>\n",
       "      <td>Yes</td>\n",
       "      <td>Yes</td>\n",
       "      <td>4.0</td>\n",
       "      <td>900K-1200K</td>\n",
       "      <td>1</td>\n",
       "      <td>2</td>\n",
       "    </tr>\n",
       "    <tr>\n",
       "      <th>4</th>\n",
       "      <td>4</td>\n",
       "      <td>Private Sector</td>\n",
       "      <td>Technical</td>\n",
       "      <td>No</td>\n",
       "      <td>Yes</td>\n",
       "      <td>5.0</td>\n",
       "      <td>1200K-1500K</td>\n",
       "      <td>2</td>\n",
       "      <td>1</td>\n",
       "    </tr>\n",
       "  </tbody>\n",
       "</table>\n",
       "</div>"
      ],
      "text/plain": [
       "   Unnamed: 0  Employment Sector Employment Background Public Dealing Degree  \\\n",
       "0           0     Private Sector             Technical             No    Yes   \n",
       "1           1     Private Sector                  Art             No    Yes    \n",
       "2           2  Government Sector             Technical             No    Yes   \n",
       "3           3  Government Sector         Non-Technical            Yes   Yes    \n",
       "4           4     Private Sector             Technical             No    Yes   \n",
       "\n",
       "   IdealNumberOfWorkdays IdealYearlyIncome  Employment Sector_label  cluster  \n",
       "0                    4.0   More Than 1500K                        2        1  \n",
       "1                    4.0         600K-900K                        2        1  \n",
       "2                    6.0        900K-1200K                        1        0  \n",
       "3                    4.0        900K-1200K                        1        2  \n",
       "4                    5.0       1200K-1500K                        2        1  "
      ]
     },
     "execution_count": 15,
     "metadata": {},
     "output_type": "execute_result"
    }
   ],
   "source": [
    "job['cluster']=y_predicted\n",
    "job.head()"
   ]
  },
  {
   "cell_type": "code",
   "execution_count": 16,
   "id": "b8b52ae4",
   "metadata": {},
   "outputs": [
    {
     "data": {
      "text/plain": [
       "array([[6.18292683, 0.17073171],\n",
       "       [4.46666667, 2.        ],\n",
       "       [4.65027322, 0.95628415]])"
      ]
     },
     "execution_count": 16,
     "metadata": {},
     "output_type": "execute_result"
    }
   ],
   "source": [
    "##K-Means model parameters study\n",
    "km.cluster_centers_"
   ]
  },
  {
   "cell_type": "code",
   "execution_count": 18,
   "id": "d16a0e1b",
   "metadata": {},
   "outputs": [
    {
     "data": {
      "text/plain": [
       "<matplotlib.legend.Legend at 0x227d20b1f10>"
      ]
     },
     "execution_count": 18,
     "metadata": {},
     "output_type": "execute_result"
    },
    {
     "data": {
      "image/png": "[encoded data removed]",
      "text/plain": [
       "<Figure size 432x288 with 1 Axes>"
      ]
     },
     "metadata": {},
     "output_type": "display_data"
    }
   ],
   "source": [
    "job1=job[job.cluster==0]\n",
    "job2=job[job.cluster==1]\n",
    "job3=job[job.cluster==2]\n",
    "plt.scatter(job1.IdealNumberOfWorkdays,job1['Employment Sector_label'],color='green')\n",
    "plt.scatter(job2.IdealNumberOfWorkdays,job2['Employment Sector_label'],color='red')\n",
    "plt.scatter(job3.IdealNumberOfWorkdays,job3['Employment Sector_label'],color='black')\n",
    "plt.scatter(km.cluster_centers_[:,0],km.cluster_centers_[:,1],color='purple',marker='*',label='centroid')\n",
    "plt.xlabel('IdealNumberOfWorkdays')\n",
    "plt.ylabel('Employment Sector_label')\n",
    "plt.legend()"
   ]
  },
  {
   "cell_type": "markdown",
   "id": "4d3f65a4",
   "metadata": {},
   "source": [
    "# Exploratory Data Analysis"
   ]
  },
  {
   "cell_type": "markdown",
   "id": "1ae6377a",
   "metadata": {},
   "source": [
    "lets try to check Number Of Students Preferring Different Type of Sectors for Job"
   ]
  },
  {
   "cell_type": "code",
   "execution_count": 30,
   "id": "bae01dbb",
   "metadata": {},
   "outputs": [
    {
     "data": {
      "image/png": "[encoded data removed]",
      "text/plain": [
       "<Figure size 576x360 with 1 Axes>"
      ]
     },
     "metadata": {},
     "output_type": "display_data"
    }
   ],
   "source": [
    "fig= plt.figure(figsize=(8,5))\n",
    "\n",
    "sns.countplot(x='Employment Sector',data=job,palette='RdPu')\n",
    "\n",
    "plt.title(\"Student's Preference in Different Employment Sectors\",fontsize=20,fontweight='bold')\n",
    "plt.xlabel(\"Employment Sector\",fontsize=15,fontweight='bold')\n",
    "plt.ylabel(\"Count\",fontsize=15,fontweight='bold')\n",
    "\n",
    "plt.xticks(fontweight='bold',fontsize=12)\n",
    "plt.yticks(fontweight='bold',fontsize=12)\n",
    "plt.show()"
   ]
  },
  {
   "cell_type": "markdown",
   "id": "ca5f5a2a",
   "metadata": {},
   "source": [
    "in this plot we can see that more than 175 of the students prefer government sector and less than 140 students prefer private sector.\n",
    "students who prefer entrepreneurship is 75.most of the student prefer government sector."
   ]
  },
  {
   "cell_type": "code",
   "execution_count": null,
   "id": "561932df",
   "metadata": {},
   "outputs": [],
   "source": []
  },
  {
   "cell_type": "markdown",
   "id": "f6a6aeed",
   "metadata": {},
   "source": [
    "lets check the Number Of Students Preferring Different Type of Field for Job"
   ]
  },
  {
   "cell_type": "code",
   "execution_count": 63,
   "id": "8b9dfa97",
   "metadata": {},
   "outputs": [
    {
     "data": {
      "image/png": "[encoded data removed]",
      "text/plain": [
       "<Figure size 576x360 with 1 Axes>"
      ]
     },
     "metadata": {},
     "output_type": "display_data"
    }
   ],
   "source": [
    "fig= plt.figure(figsize=(8,5))\n",
    "\n",
    "sns.countplot(x='Employment Background',data=job)\n",
    "\n",
    "plt.title(\"Student's preference in Employment Background\",fontsize=20,fontweight='bold')\n",
    "plt.xlabel(\"Employment Background\",fontsize=15,fontweight='bold')\n",
    "plt.ylabel(\"Count\",fontsize=15,fontweight='bold')\n",
    "\n",
    "plt.xticks(fontweight='bold',fontsize=12)\n",
    "plt.yticks(fontweight='bold',fontsize=12)\n",
    "plt.show()\n"
   ]
  },
  {
   "cell_type": "markdown",
   "id": "f2823efb",
   "metadata": {},
   "source": [
    "here we can see that more than 200 students prefer employment background as non technical.the students who prefer art is very less compared to others"
   ]
  },
  {
   "cell_type": "code",
   "execution_count": null,
   "id": "41efdfbb",
   "metadata": {},
   "outputs": [],
   "source": []
  },
  {
   "cell_type": "code",
   "execution_count": null,
   "id": "c3a2fade",
   "metadata": {},
   "outputs": [],
   "source": []
  },
  {
   "cell_type": "markdown",
   "id": "2e109b25",
   "metadata": {},
   "source": [
    "lets check Number Of Students who are Comfortable with Public Dealing"
   ]
  },
  {
   "cell_type": "code",
   "execution_count": 64,
   "id": "20a1ead3",
   "metadata": {},
   "outputs": [
    {
     "data": {
      "image/png": "[encoded data removed]",
      "text/plain": [
       "<Figure size 576x360 with 1 Axes>"
      ]
     },
     "metadata": {},
     "output_type": "display_data"
    }
   ],
   "source": [
    "fig= plt.figure(figsize=(8,5))\n",
    "\n",
    "sns.countplot(x='Public Dealing',data=job)\n",
    "\n",
    "plt.title(\"Student's comfort in Public Dealing\",fontsize=20,fontweight='bold')\n",
    "plt.xlabel(\"Public Dealing\",fontsize=15,fontweight='bold')\n",
    "plt.ylabel(\"Count\",fontsize=15,fontweight='bold')\n",
    "\n",
    "plt.xticks(fontweight='bold',fontsize=12)\n",
    "plt.yticks(fontweight='bold',fontsize=12)\n",
    "plt.show()"
   ]
  },
  {
   "cell_type": "markdown",
   "id": "7fee60da",
   "metadata": {},
   "source": [
    "here we can see that greater than 175 students are comfort in public dealing and more than 200 students are not comfortable in public dealing"
   ]
  },
  {
   "cell_type": "code",
   "execution_count": null,
   "id": "823cd755",
   "metadata": {},
   "outputs": [],
   "source": []
  },
  {
   "cell_type": "code",
   "execution_count": null,
   "id": "da0926d9",
   "metadata": {},
   "outputs": [],
   "source": []
  },
  {
   "cell_type": "code",
   "execution_count": 68,
   "id": "debd2469",
   "metadata": {},
   "outputs": [
    {
     "data": {
      "image/png": "[encoded data removed]",
      "text/plain": [
       "<Figure size 576x360 with 1 Axes>"
      ]
     },
     "metadata": {},
     "output_type": "display_data"
    }
   ],
   "source": [
    "#swarm plot of employment sector_label and idealyearlyincome with hue as degree\n",
    "fig= plt.figure(figsize=(8,5))\n",
    "sns.swarmplot(x=\"Employment Sector_label\",y=\"IdealYearlyIncome\",hue=\"Degree\",data=job);\n",
    "plt.show()"
   ]
  },
  {
   "cell_type": "code",
   "execution_count": 69,
   "id": "c4aa1031",
   "metadata": {},
   "outputs": [
    {
     "data": {
      "text/plain": [
       "<Figure size 576x360 with 0 Axes>"
      ]
     },
     "metadata": {},
     "output_type": "display_data"
    },
    {
     "data": {
      "image/png": "[encoded data removed]",
      "text/plain": [
       "<Figure size 864x432 with 1 Axes>"
      ]
     },
     "metadata": {},
     "output_type": "display_data"
    }
   ],
   "source": [
    "#Number Of Students Persuing the Degree in which they want to make their Career\n",
    "fig= plt.figure(figsize=(8,5))\n",
    "g = sns.FacetGrid(job,palette='coolwarm',size=6,aspect=2)\n",
    "g = g.map(plt.hist,'Degree',bins=25,alpha=0.7)\n",
    "\n",
    "plt.title(\"Students Persuing Respective Degrees in which they want their Career\",fontsize=20,fontweight='bold')\n",
    "plt.xlabel(\"Degree\",fontsize=15,fontweight='bold')\n",
    "plt.ylabel(\"Count\",fontsize=15,fontweight='bold')\n",
    "\n",
    "plt.xticks(fontweight='bold',fontsize=12)\n",
    "plt.yticks(fontweight='bold',fontsize=12)\n",
    "plt.show()"
   ]
  },
  {
   "cell_type": "markdown",
   "id": "64e59dd0",
   "metadata": {},
   "source": [
    "in this plot we can see that more than 200 students persue repective degree"
   ]
  },
  {
   "cell_type": "code",
   "execution_count": 70,
   "id": "a8b660e1",
   "metadata": {},
   "outputs": [
    {
     "data": {
      "image/png": "[encoded data removed]",
      "text/plain": [
       "<Figure size 576x360 with 1 Axes>"
      ]
     },
     "metadata": {},
     "output_type": "display_data"
    }
   ],
   "source": [
    "#Number Of Students Preferring Number of Days to Work in a Week\n",
    "fig= plt.figure(figsize=(8,5))\n",
    "\n",
    "job.IdealNumberOfWorkdays.hist()\n",
    "\n",
    "plt.title(\"Ideal Number Of Workdays in a Week\",fontsize=20,fontweight='bold')\n",
    "plt.xlabel(\"Number of Workdays\",fontsize=15,fontweight='bold')\n",
    "plt.ylabel(\"Count\",fontsize=15,fontweight='bold')\n",
    "\n",
    "plt.xticks(fontweight='bold',fontsize=12)\n",
    "plt.yticks(fontweight='bold',fontsize=12)\n",
    "plt.show()"
   ]
  },
  {
   "cell_type": "markdown",
   "id": "e3e66d36",
   "metadata": {},
   "source": [
    "more than 175 students prefer 5 number of working days,less than 25 students prefer 7 working days"
   ]
  },
  {
   "cell_type": "code",
   "execution_count": 72,
   "id": "7d4e7e69",
   "metadata": {},
   "outputs": [
    {
     "data": {
      "image/png": "[encoded data removed]",
      "text/plain": [
       "<Figure size 576x360 with 1 Axes>"
      ]
     },
     "metadata": {},
     "output_type": "display_data"
    }
   ],
   "source": [
    "#Number Of Students Preferring an Ideal Salary Per Year\n",
    "fig= plt.figure(figsize=(8,5))\n",
    "\n",
    "sns.countplot(x='IdealYearlyIncome',data=job)\n",
    "plt.title(\"Students Prefering Ideal Income Yearly\",fontsize=20,fontweight='bold')\n",
    "plt.xlabel(\"Ideal Income\",fontsize=15,fontweight='bold')\n",
    "plt.ylabel(\"Count\",fontsize=15,fontweight='bold')\n",
    "\n",
    "plt.xticks(fontweight='bold',fontsize=12)\n",
    "plt.yticks(fontweight='bold',fontsize=12)\n",
    "plt.show()"
   ]
  },
  {
   "cell_type": "markdown",
   "id": "2bac57eb",
   "metadata": {},
   "source": [
    "more than 160 student prefer 900k-1200k income "
   ]
  },
  {
   "cell_type": "code",
   "execution_count": null,
   "id": "a6fd6c47",
   "metadata": {},
   "outputs": [],
   "source": []
  },
  {
   "cell_type": "code",
   "execution_count": 7,
   "id": "7a499a75",
   "metadata": {},
   "outputs": [
    {
     "data": {
      "image/png": "[encoded data removed]",
      "text/plain": [
       "<Figure size 1080x360 with 3 Axes>"
      ]
     },
     "metadata": {},
     "output_type": "display_data"
    }
   ],
   "source": [
    "#catplot of employment background and employment sector\n",
    "sns.catplot(x='Employment Background',data=job,col='Employment Sector',kind='count',aspect=1)\n",
    "\n",
    "plt.show()\n"
   ]
  },
  {
   "cell_type": "markdown",
   "id": "99832382",
   "metadata": {},
   "source": [
    " most of the student who prefer government sector employnment background is non techincal"
   ]
  },
  {
   "cell_type": "code",
   "execution_count": null,
   "id": "df503a36",
   "metadata": {},
   "outputs": [],
   "source": []
  },
  {
   "cell_type": "code",
   "execution_count": 17,
   "id": "42799516",
   "metadata": {},
   "outputs": [],
   "source": [
    "labels = [\"student comfort in Public Dealing\",'Not comfort']\n",
    "values=job['Public Dealing'].value_counts().values"
   ]
  },
  {
   "cell_type": "code",
   "execution_count": 18,
   "id": "3c7a07c8",
   "metadata": {},
   "outputs": [
    {
     "data": {
      "image/png": "[encoded data removed]",
      "text/plain": [
       "<Figure size 360x720 with 1 Axes>"
      ]
     },
     "metadata": {},
     "output_type": "display_data"
    }
   ],
   "source": [
    "fig1, ax1 = plt.subplots()\n",
    "ax1.pie(values, labels=labels, autopct='%1.1f%%',shadow=True,startangle=90)\n",
    "plt.show()"
   ]
  },
  {
   "cell_type": "code",
   "execution_count": 19,
   "id": "9cbcfd34",
   "metadata": {},
   "outputs": [
    {
     "data": {
      "image/png": "[encoded data removed]",
      "text/plain": [
       "<Figure size 360x720 with 1 Axes>"
      ]
     },
     "metadata": {},
     "output_type": "display_data"
    }
   ],
   "source": [
    "labels4g = [\"students Persuing the Degree for their Respective Career\",'Not persuing degree']\n",
    "values4g = job['Degree'].value_counts().values\n",
    "fig1, ax1 = plt.subplots()\n",
    "ax1.pie(values4g, labels=labels4g, autopct='%1.1f%%',shadow=True,startangle=90)\n",
    "plt.show()"
   ]
  },
  {
   "cell_type": "code",
   "execution_count": 8,
   "id": "77175e95",
   "metadata": {},
   "outputs": [
    {
     "data": {
      "text/plain": [
       "<seaborn.axisgrid.FacetGrid at 0x27791d326d0>"
      ]
     },
     "execution_count": 8,
     "metadata": {},
     "output_type": "execute_result"
    },
    {
     "data": {
      "image/png": "[encoded data removed]",
      "text/plain": [
       "<Figure size 432x360 with 1 Axes>"
      ]
     },
     "metadata": {},
     "output_type": "display_data"
    }
   ],
   "source": [
    "sns.catplot(data=job,x='Employment Sector',kind='count',hue='Public Dealing',aspect=1)"
   ]
  },
  {
   "cell_type": "markdown",
   "id": "0eedac87",
   "metadata": {},
   "source": [
    "all the students who prefer emploment sector as entrepreneurship are comfort in public dealing"
   ]
  },
  {
   "cell_type": "code",
   "execution_count": 9,
   "id": "b5a1da19",
   "metadata": {},
   "outputs": [
    {
     "data": {
      "image/png": "[encoded data removed]",
      "text/plain": [
       "<Figure size 1196.25x360 with 3 Axes>"
      ]
     },
     "metadata": {},
     "output_type": "display_data"
    }
   ],
   "source": [
    "sns.catplot(x='Employment Background',data=job,col='Employment Sector',kind='count',hue='IdealYearlyIncome',aspect=1)\n",
    "plt.show()"
   ]
  },
  {
   "cell_type": "code",
   "execution_count": 11,
   "id": "3f6734e0",
   "metadata": {},
   "outputs": [
    {
     "data": {
      "image/png": "[encoded data removed]",
      "text/plain": [
       "<Figure size 1200.62x360 with 3 Axes>"
      ]
     },
     "metadata": {},
     "output_type": "display_data"
    }
   ],
   "source": [
    "sns.catplot(x='Employment Background',data=job,col='Employment Sector',kind='count',hue='IdealNumberOfWorkdays',aspect=1)\n",
    "plt.show()\n"
   ]
  },
  {
   "cell_type": "code",
   "execution_count": 14,
   "id": "0da32d7d",
   "metadata": {},
   "outputs": [
    {
     "data": {
      "image/png": "[encoded data removed]",
      "text/plain": [
       "<Figure size 1196.25x360 with 3 Axes>"
      ]
     },
     "metadata": {},
     "output_type": "display_data"
    }
   ],
   "source": [
    "sns.catplot(x='Employment Background',data=job,col='Employment Sector',kind='count',hue='IdealYearlyIncome',aspect=1)\n",
    "plt.show()"
   ]
  },
  {
   "cell_type": "markdown",
   "id": "44d1f6ac",
   "metadata": {},
   "source": [
    "OBSERVATIONS:\n",
    "\n",
    "\n",
    "1. We Can easily see that most of the students Prefer to have a Government Job once graduated with Non-Technical Background.\n",
    "\n",
    "2. Students Who Want to make Career in Non-Technical Background are often choose to be in Goverment Sector Rather than in Private Sector or be an Entreprenuer.\n",
    "\n",
    "3. Students Who want to be in Government Sector are more Confortable with Public Dealing than Students preferring Private Sector.It maybe because Most of the Students with Non-Technical Background Prefer to be in government Sector.\n",
    "\n",
    "4. Students Who want to go in Private Sector are Persuing the Degree for their Respective Career. And Students Who wants to Be in Arts and want to start their own Start-Up are also persuing The Respective Degrees. It maybe because in Public Sector a degree of the perticular is a must.\n",
    "\n",
    "5. Students in Arts Love to work that's Why some of them recommend to work all the days in a week whether the average days are 5 days per week.Also the Students who wants to be a Entrepreneur also recommend more than average days to work per week.\n",
    "\n",
    "6.Students with Technical Background And in Public Sector expects more than Average Salary"
   ]
  },
  {
   "cell_type": "code",
   "execution_count": null,
   "id": "3a6657fd",
   "metadata": {},
   "outputs": [],
   "source": []
  }
 ],
 "metadata": {
  "kernelspec": {
   "display_name": "Python 3 (ipykernel)",
   "language": "python",
   "name": "python3"
  },
  "language_info": {
   "codemirror_mode": {
    "name": "ipython",
    "version": 3
   },
   "file_extension": ".py",
   "mimetype": "text/x-python",
   "name": "python",
   "nbconvert_exporter": "python",
   "pygments_lexer": "ipython3",
   "version": "3.9.7"
  }
 },
 "nbformat": 4,
 "nbformat_minor": 5
}
